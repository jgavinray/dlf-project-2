{
 "cells": [
  {
   "cell_type": "markdown",
   "metadata": {
    "collapsed": true
   },
   "source": [
    "# Image Classification\n",
    "In this project, you'll classify images from the [CIFAR-10 dataset](https://www.cs.toronto.edu/~kriz/cifar.html).  The dataset consists of airplanes, dogs, cats, and other objects. You'll preprocess the images, then train a convolutional neural network on all the samples. The images need to be normalized and the labels need to be one-hot encoded.  You'll get to apply what you learned and build a convolutional, max pooling, dropout, and fully connected layers.  At the end, you'll get to see your neural network's predictions on the sample images.\n",
    "## Get the Data\n",
    "Run the following cell to download the [CIFAR-10 dataset for python](https://www.cs.toronto.edu/~kriz/cifar-10-python.tar.gz)."
   ]
  },
  {
   "cell_type": "code",
   "execution_count": 1,
   "metadata": {
    "collapsed": false
   },
   "outputs": [
    {
     "name": "stderr",
     "output_type": "stream",
     "text": [
      "CIFAR-10 Dataset: 171MB [17:19, 164KB/s]                               \n"
     ]
    },
    {
     "name": "stdout",
     "output_type": "stream",
     "text": [
      "All files found!\n"
     ]
    }
   ],
   "source": [
    "\"\"\"\n",
    "DON'T MODIFY ANYTHING IN THIS CELL THAT IS BELOW THIS LINE\n",
    "\"\"\"\n",
    "from urllib.request import urlretrieve\n",
    "from os.path import isfile, isdir\n",
    "from tqdm import tqdm\n",
    "import problem_unittests as tests\n",
    "import tarfile\n",
    "\n",
    "cifar10_dataset_folder_path = 'cifar-10-batches-py'\n",
    "\n",
    "class DLProgress(tqdm):\n",
    "    last_block = 0\n",
    "\n",
    "    def hook(self, block_num=1, block_size=1, total_size=None):\n",
    "        self.total = total_size\n",
    "        self.update((block_num - self.last_block) * block_size)\n",
    "        self.last_block = block_num\n",
    "\n",
    "if not isfile('cifar-10-python.tar.gz'):\n",
    "    with DLProgress(unit='B', unit_scale=True, miniters=1, desc='CIFAR-10 Dataset') as pbar:\n",
    "        urlretrieve(\n",
    "            'https://www.cs.toronto.edu/~kriz/cifar-10-python.tar.gz',\n",
    "            'cifar-10-python.tar.gz',\n",
    "            pbar.hook)\n",
    "\n",
    "if not isdir(cifar10_dataset_folder_path):\n",
    "    with tarfile.open('cifar-10-python.tar.gz') as tar:\n",
    "        tar.extractall()\n",
    "        tar.close()\n",
    "\n",
    "\n",
    "tests.test_folder_path(cifar10_dataset_folder_path)"
   ]
  },
  {
   "cell_type": "markdown",
   "metadata": {},
   "source": [
    "## Explore the Data\n",
    "The dataset is broken into batches to prevent your machine from running out of memory.  The CIFAR-10 dataset consists of 5 batches, named `data_batch_1`, `data_batch_2`, etc.. Each batch contains the labels and images that are one of the following:\n",
    "* airplane\n",
    "* automobile\n",
    "* bird\n",
    "* cat\n",
    "* deer\n",
    "* dog\n",
    "* frog\n",
    "* horse\n",
    "* ship\n",
    "* truck\n",
    "\n",
    "Understanding a dataset is part of making predictions on the data.  Play around with the code cell below by changing the `batch_id` and `sample_id`. The `batch_id` is the id for a batch (1-5). The `sample_id` is the id for a image and label pair in the batch.\n",
    "\n",
    "Ask yourself \"What are all possible labels?\", \"What is the range of values for the image data?\", \"Are the labels in order or random?\".  Answers to questions like these will help you preprocess the data and end up with better predictions."
   ]
  },
  {
   "cell_type": "code",
   "execution_count": 3,
   "metadata": {
    "collapsed": false
   },
   "outputs": [
    {
     "name": "stdout",
     "output_type": "stream",
     "text": [
      "\n",
      "Stats of batch 1:\n",
      "Samples: 10000\n",
      "Label Counts: {0: 1005, 1: 974, 2: 1032, 3: 1016, 4: 999, 5: 937, 6: 1030, 7: 1001, 8: 1025, 9: 981}\n",
      "First 20 Labels: [6, 9, 9, 4, 1, 1, 2, 7, 8, 3, 4, 7, 7, 2, 9, 9, 9, 3, 2, 6]\n",
      "\n",
      "Example of Image 5:\n",
      "Image - Min Value: 0 Max Value: 252\n",
      "Image - Shape: (32, 32, 3)\n",
      "Label - Label Id: 1 Name: automobile\n"
     ]
    },
    {
     "data": {
      "image/png": "[encoded data removed]",
      "text/plain": [
       "<matplotlib.figure.Figure at 0x10b484e48>"
      ]
     },
     "metadata": {
      "image/png": {
       "height": 250,
       "width": 253
      }
     },
     "output_type": "display_data"
    }
   ],
   "source": [
    "%matplotlib inline\n",
    "%config InlineBackend.figure_format = 'retina'\n",
    "\n",
    "import helper\n",
    "import numpy as np\n",
    "\n",
    "# Explore the dataset\n",
    "batch_id = 1\n",
    "sample_id = 5\n",
    "helper.display_stats(cifar10_dataset_folder_path, batch_id, sample_id)"
   ]
  },
  {
   "cell_type": "markdown",
   "metadata": {},
   "source": [
    "## Implement Preprocess Functions\n",
    "### Normalize\n",
    "In the cell below, implement the `normalize` function to take in image data, `x`, and return it as a normalized Numpy array. The values should be in the range of 0 to 1, inclusive.  The return object should be the same shape as `x`."
   ]
  },
  {
   "cell_type": "code",
   "execution_count": 4,
   "metadata": {
    "collapsed": false
   },
   "outputs": [
    {
     "name": "stdout",
     "output_type": "stream",
     "text": [
      "Tests Passed\n"
     ]
    }
   ],
   "source": [
    "def normalize(x):\n",
    "    \"\"\"\n",
    "    Normalize a list of sample image data in the range of 0 to 1\n",
    "    : x: List of image data.  The image shape is (32, 32, 3)\n",
    "    : return: Numpy array of normalize data\n",
    "    \"\"\"\n",
    "    x = np.array(x)\n",
    "    return (x - x.min()) / (x.max() - x.min())\n",
    "\"\"\"\n",
    "DON'T MODIFY ANYTHING IN THIS CELL THAT IS BELOW THIS LINE\n",
    "\"\"\"\n",
    "tests.test_normalize(normalize)"
   ]
  },
  {
   "cell_type": "markdown",
   "metadata": {},
   "source": [
    "### One-hot encode\n",
    "Just like the previous code cell, you'll be implementing a function for preprocessing.  This time, you'll implement the `one_hot_encode` function. The input, `x`, are a list of labels.  Implement the function to return the list of labels as One-Hot encoded Numpy array.  The possible values for labels are 0 to 9. The one-hot encoding function should return the same encoding for each value between each call to `one_hot_encode`.  Make sure to save the map of encodings outside the function.\n",
    "\n",
    "Hint: Don't reinvent the wheel."
   ]
  },
  {
   "cell_type": "code",
   "execution_count": 5,
   "metadata": {
    "collapsed": false
   },
   "outputs": [
    {
     "name": "stdout",
     "output_type": "stream",
     "text": [
      "Tests Passed\n"
     ]
    }
   ],
   "source": [
    "def one_hot_encode(x):\n",
    "    \"\"\"\n",
    "    One hot encode a list of sample labels. Return a one-hot encoded vector for each label.\n",
    "    : x: List of sample Labels\n",
    "    : return: Numpy array of one-hot encoded labels\n",
    "    \"\"\"\n",
    "    return np.eye(10)[x]\n",
    "\"\"\"\n",
    "DON'T MODIFY ANYTHING IN THIS CELL THAT IS BELOW THIS LINE\n",
    "\"\"\"\n",
    "tests.test_one_hot_encode(one_hot_encode)"
   ]
  },
  {
   "cell_type": "markdown",
   "metadata": {},
   "source": [
    "### Randomize Data\n",
    "As you saw from exploring the data above, the order of the samples are randomized.  It doesn't hurt to randomize it again, but you don't need to for this dataset."
   ]
  },
  {
   "cell_type": "markdown",
   "metadata": {},
   "source": [
    "## Preprocess all the data and save it\n",
    "Running the code cell below will preprocess all the CIFAR-10 data and save it to file. The code below also uses 10% of the training data for validation."
   ]
  },
  {
   "cell_type": "code",
   "execution_count": 6,
   "metadata": {
    "collapsed": false
   },
   "outputs": [],
   "source": [
    "\"\"\"\n",
    "DON'T MODIFY ANYTHING IN THIS CELL\n",
    "\"\"\"\n",
    "# Preprocess Training, Validation, and Testing Data\n",
    "helper.preprocess_and_save_data(cifar10_dataset_folder_path, normalize, one_hot_encode)"
   ]
  },
  {
   "cell_type": "markdown",
   "metadata": {},
   "source": [
    "# Check Point\n",
    "This is your first checkpoint.  If you ever decide to come back to this notebook or have to restart the notebook, you can start from here.  The preprocessed data has been saved to disk."
   ]
  },
  {
   "cell_type": "code",
   "execution_count": 7,
   "metadata": {
    "collapsed": true
   },
   "outputs": [],
   "source": [
    "\"\"\"\n",
    "DON'T MODIFY ANYTHING IN THIS CELL\n",
    "\"\"\"\n",
    "import pickle\n",
    "import problem_unittests as tests\n",
    "import helper\n",
    "\n",
    "# Load the Preprocessed Validation data\n",
    "valid_features, valid_labels = pickle.load(open('preprocess_validation.p', mode='rb'))"
   ]
  },
  {
   "cell_type": "markdown",
   "metadata": {},
   "source": [
    "## Build the network\n",
    "For the neural network, you'll build each layer into a function.  Most of the code you've seen has been outside of functions. To test your code more thoroughly, we require that you put each layer in a function.  This allows us to give you better feedback and test for simple mistakes using our unittests before you submit your project.\n",
    "\n",
    "If you're finding it hard to dedicate enough time for this course a week, we've provided a small shortcut to this part of the project. In the next couple of problems, you'll have the option to use [TensorFlow Layers](https://www.tensorflow.org/api_docs/python/tf/layers) or [TensorFlow Layers (contrib)](https://www.tensorflow.org/api_guides/python/contrib.layers) to build each layer, except \"Convolutional & Max Pooling\" layer.  TF Layers is similar to Keras's and TFLearn's abstraction to layers, so it's easy to pickup.\n",
    "\n",
    "If you would like to get the most of this course, try to solve all the problems without TF Layers.  Let's begin!\n",
    "### Input\n",
    "The neural network needs to read the image data, one-hot encoded labels, and dropout keep probability. Implement the following functions\n",
    "* Implement `neural_net_image_input`\n",
    " * Return a [TF Placeholder](https://www.tensorflow.org/api_docs/python/tf/placeholder)\n",
    " * Set the shape using `image_shape` with batch size set to `None`.\n",
    " * Name the TensorFlow placeholder \"x\" using the TensorFlow `name` parameter in the [TF Placeholder](https://www.tensorflow.org/api_docs/python/tf/placeholder).\n",
    "* Implement `neural_net_label_input`\n",
    " * Return a [TF Placeholder](https://www.tensorflow.org/api_docs/python/tf/placeholder)\n",
    " * Set the shape using `n_classes` with batch size set to `None`.\n",
    " * Name the TensorFlow placeholder \"y\" using the TensorFlow `name` parameter in the [TF Placeholder](https://www.tensorflow.org/api_docs/python/tf/placeholder).\n",
    "* Implement `neural_net_keep_prob_input`\n",
    " * Return a [TF Placeholder](https://www.tensorflow.org/api_docs/python/tf/placeholder) for dropout keep probability.\n",
    " * Name the TensorFlow placeholder \"keep_prob\" using the TensorFlow `name` parameter in the [TF Placeholder](https://www.tensorflow.org/api_docs/python/tf/placeholder).\n",
    "\n",
    "These names will be used at the end of the project to load your saved model.\n",
    "\n",
    "Note: `None` for shapes in TensorFlow allow for a dynamic size."
   ]
  },
  {
   "cell_type": "code",
   "execution_count": 8,
   "metadata": {
    "collapsed": false
   },
   "outputs": [
    {
     "name": "stdout",
     "output_type": "stream",
     "text": [
      "Image Input Tests Passed.\n",
      "Label Input Tests Passed.\n",
      "Keep Prob Tests Passed.\n"
     ]
    }
   ],
   "source": [
    "import tensorflow as tf\n",
    "\n",
    "def neural_net_image_input(image_shape):\n",
    "    \"\"\"\n",
    "    Return a Tensor for a bach of image input\n",
    "    : image_shape: Shape of the images\n",
    "    : return: Tensor for image input.\n",
    "    \"\"\"\n",
    "    return tf.placeholder(tf.float32,[None,\n",
    "                                      image_shape[0],\n",
    "                                      image_shape[1],\n",
    "                                      image_shape[2]],name=\"x\")\n",
    "\n",
    "\n",
    "def neural_net_label_input(n_classes):\n",
    "    \"\"\"\n",
    "    Return a Tensor for a batch of label input\n",
    "    : n_classes: Number of classes\n",
    "    : return: Tensor for label input.\n",
    "    \"\"\"\n",
    "    return tf.placeholder(tf.float32,[None,n_classes],name='y')\n",
    "\n",
    "\n",
    "def neural_net_keep_prob_input():\n",
    "    \"\"\"\n",
    "    Return a Tensor for keep probability\n",
    "    : return: Tensor for keep probability.\n",
    "    \"\"\"\n",
    "    return tf.placeholder(tf.float32,name=\"keep_prob\")\n",
    "\n",
    "\n",
    "\"\"\"\n",
    "DON'T MODIFY ANYTHING IN THIS CELL THAT IS BELOW THIS LINE\n",
    "\"\"\"\n",
    "tf.reset_default_graph()\n",
    "tests.test_nn_image_inputs(neural_net_image_input)\n",
    "tests.test_nn_label_inputs(neural_net_label_input)\n",
    "tests.test_nn_keep_prob_inputs(neural_net_keep_prob_input)"
   ]
  },
  {
   "cell_type": "markdown",
   "metadata": {},
   "source": [
    "### Convolution and Max Pooling Layer\n",
    "Convolution layers have a lot of success with images. For this code cell, you should implement the function `conv2d_maxpool` to apply convolution then max pooling:\n",
    "* Create the weight and bias using `conv_ksize`, `conv_num_outputs` and the shape of `x_tensor`.\n",
    "* Apply a convolution to `x_tensor` using weight and `conv_strides`.\n",
    " * We recommend you use same padding, but you're welcome to use any padding.\n",
    "* Add bias\n",
    "* Add a nonlinear activation to the convolution.\n",
    "* Apply Max Pooling using `pool_ksize` and `pool_strides`.\n",
    " * We recommend you use same padding, but you're welcome to use any padding.\n",
    "\n",
    "Note: You **can't** use [TensorFlow Layers](https://www.tensorflow.org/api_docs/python/tf/layers) or [TensorFlow Layers (contrib)](https://www.tensorflow.org/api_guides/python/contrib.layers) for this layer.  You're free to use any TensorFlow package for all the other layers."
   ]
  },
  {
   "cell_type": "code",
   "execution_count": 9,
   "metadata": {
    "collapsed": false
   },
   "outputs": [
    {
     "name": "stdout",
     "output_type": "stream",
     "text": [
      "Tests Passed\n"
     ]
    }
   ],
   "source": [
    "def conv2d_maxpool(x_tensor, conv_num_outputs, conv_ksize, conv_strides, pool_ksize, pool_strides):\n",
    "    \"\"\"\n",
    "    Apply convolution then max pooling to x_tensor\n",
    "    :param x_tensor: TensorFlow Tensor\n",
    "    :param conv_num_outputs: Number of outputs for the convolutional layer\n",
    "    :param conv_strides: Stride 2-D Tuple for convolution\n",
    "    :param pool_ksize: kernal size 2-D Tuple for pool\n",
    "    :param pool_strides: Stride 2-D Tuple for pool\n",
    "    : return: A tensor that represents convolution and max pooling of x_tensor\n",
    "    \"\"\"\n",
    "    weights = tf.Variable(tf.truncated_normal([*conv_ksize,\n",
    "                                               x_tensor.get_shape().as_list()[3], \n",
    "                                               conv_num_outputs],\n",
    "                                               mean=0,stddev=0.1))\n",
    "    bias = tf.Variable(tf.zeros([conv_num_outputs]))\n",
    "    \n",
    "    layer = tf.nn.conv2d(x_tensor,weights,strides=[1,*conv_strides, 1],\n",
    "                                         padding='SAME')\n",
    "    layer = tf.nn.bias_add(layer,bias)\n",
    "    layer = tf.nn.relu(layer)\n",
    "    layer = tf.nn.max_pool(layer, \n",
    "                           [1,*pool_ksize, 1], \n",
    "                           strides=[1,*pool_strides, 1], \n",
    "                           padding='SAME')\n",
    "    return layer\n",
    "\n",
    "\"\"\"\n",
    "DON'T MODIFY ANYTHING IN THIS CELL THAT IS BELOW THIS LINE\n",
    "\"\"\"\n",
    "tests.test_con_pool(conv2d_maxpool)"
   ]
  },
  {
   "cell_type": "markdown",
   "metadata": {},
   "source": [
    "### Flatten Layer\n",
    "Implement the `flatten` function to change the dimension of `x_tensor` from a 4-D tensor to a 2-D tensor.  The output should be the shape (*Batch Size*, *Flattened Image Size*). You can use [TensorFlow Layers](https://www.tensorflow.org/api_docs/python/tf/layers) or [TensorFlow Layers (contrib)](https://www.tensorflow.org/api_guides/python/contrib.layers) for this layer."
   ]
  },
  {
   "cell_type": "code",
   "execution_count": 10,
   "metadata": {
    "collapsed": false
   },
   "outputs": [
    {
     "name": "stdout",
     "output_type": "stream",
     "text": [
      "Tests Passed\n"
     ]
    }
   ],
   "source": [
    "def flatten(x_tensor):\n",
    "    \"\"\"\n",
    "    Flatten x_tensor to (Batch Size, Flattened Image Size)\n",
    "    : x_tensor: A tensor of size (Batch Size, ...), where ... are the image dimensions.\n",
    "    : return: A tensor of size (Batch Size, Flattened Image Size).\n",
    "    \"\"\"\n",
    "    size = 1\n",
    "    for item in x_tensor.get_shape().as_list():\n",
    "        if(item != None):\n",
    "            size *= item\n",
    "\n",
    "    return tf.reshape(x_tensor,[-1,size])\n",
    "\n",
    "\n",
    "\"\"\"\n",
    "DON'T MODIFY ANYTHING IN THIS CELL THAT IS BELOW THIS LINE\n",
    "\"\"\"\n",
    "tests.test_flatten(flatten)"
   ]
  },
  {
   "cell_type": "markdown",
   "metadata": {},
   "source": [
    "### Fully-Connected Layer\n",
    "Implement the `fully_conn` function to apply a fully connected layer to `x_tensor` with the shape (*Batch Size*, *num_outputs*). You can use [TensorFlow Layers](https://www.tensorflow.org/api_docs/python/tf/layers) or [TensorFlow Layers (contrib)](https://www.tensorflow.org/api_guides/python/contrib.layers) for this layer."
   ]
  },
  {
   "cell_type": "code",
   "execution_count": 11,
   "metadata": {
    "collapsed": false
   },
   "outputs": [
    {
     "name": "stdout",
     "output_type": "stream",
     "text": [
      "Tests Passed\n"
     ]
    }
   ],
   "source": [
    "def fully_conn(x_tensor, num_outputs):\n",
    "    \"\"\"\n",
    "    Apply a fully connected layer to x_tensor using weight and bias\n",
    "    : x_tensor: A 2-D tensor where the first dimension is batch size.\n",
    "    : num_outputs: The number of output that the new tensor should be.\n",
    "    : return: A 2-D tensor where the second dimension is num_outputs.\n",
    "    \"\"\"\n",
    "    weights = tf.Variable(tf.truncated_normal([x_tensor.get_shape().as_list()[1],\n",
    "                                               num_outputs],\n",
    "                                              mean=0,stddev=0.1))\n",
    "    biases = tf.Variable(tf.zeros([num_outputs]))\n",
    "    layer = tf.nn.bias_add(tf.matmul(x_tensor, weights),biases)\n",
    "    layer = tf.nn.relu(layer)\n",
    "    return layer\n",
    "\n",
    "\"\"\"\n",
    "DON'T MODIFY ANYTHING IN THIS CELL THAT IS BELOW THIS LINE\n",
    "\"\"\"\n",
    "tests.test_fully_conn(fully_conn)"
   ]
  },
  {
   "cell_type": "markdown",
   "metadata": {},
   "source": [
    "### Output Layer\n",
    "Implement the `output` function to apply a fully connected layer to `x_tensor` with the shape (*Batch Size*, *num_outputs*). You can use [TensorFlow Layers](https://www.tensorflow.org/api_docs/python/tf/layers) or [TensorFlow Layers (contrib)](https://www.tensorflow.org/api_guides/python/contrib.layers) for this layer.\n",
    "\n",
    "Note: Activation, softmax, or cross entropy shouldn't be applied to this."
   ]
  },
  {
   "cell_type": "code",
   "execution_count": 12,
   "metadata": {
    "collapsed": false
   },
   "outputs": [
    {
     "name": "stdout",
     "output_type": "stream",
     "text": [
      "Tests Passed\n"
     ]
    }
   ],
   "source": [
    "def output(x_tensor, num_outputs):\n",
    "    \"\"\"\n",
    "    Apply a output layer to x_tensor using weight and bias\n",
    "    : x_tensor: A 2-D tensor where the first dimension is batch size.\n",
    "    : num_outputs: The number of output that the new tensor should be.\n",
    "    : return: A 2-D tensor where the second dimension is num_outputs.\n",
    "    \"\"\"\n",
    "    weights = tf.Variable(tf.truncated_normal([x_tensor.get_shape().as_list()[1],\n",
    "                                               num_outputs],\n",
    "                                              mean=0,stddev=0.1))\n",
    "    biases = tf.Variable(tf.zeros([num_outputs]))\n",
    "    layer = tf.nn.bias_add(tf.matmul(x_tensor, weights),biases)\n",
    "    \n",
    "    return layer\n",
    "\n",
    "\n",
    "\"\"\"\n",
    "DON'T MODIFY ANYTHING IN THIS CELL THAT IS BELOW THIS LINE\n",
    "\"\"\"\n",
    "tests.test_output(output)"
   ]
  },
  {
   "cell_type": "markdown",
   "metadata": {},
   "source": [
    "### Create Convolutional Model\n",
    "Implement the function `conv_net` to create a convolutional neural network model. The function takes in a batch of images, `x`, and outputs logits.  Use the layers you created above to create this model:\n",
    "\n",
    "* Apply 1, 2, or 3 Convolution and Max Pool layers\n",
    "* Apply a Flatten Layer\n",
    "* Apply 1, 2, or 3 Fully Connected Layers\n",
    "* Apply an Output Layer\n",
    "* Return the output\n",
    "* Apply [TensorFlow's Dropout](https://www.tensorflow.org/api_docs/python/tf/nn/dropout) to one or more layers in the model using `keep_prob`. "
   ]
  },
  {
   "cell_type": "code",
   "execution_count": 13,
   "metadata": {
    "collapsed": false
   },
   "outputs": [
    {
     "name": "stdout",
     "output_type": "stream",
     "text": [
      "Neural Network Built!\n"
     ]
    }
   ],
   "source": [
    "def conv_net(x, keep_prob):\n",
    "    \"\"\"\n",
    "    Create a convolutional neural network model\n",
    "    : x: Placeholder tensor that holds image data.\n",
    "    : keep_prob: Placeholder tensor that hold dropout keep probability.\n",
    "    : return: Tensor that represents logits\n",
    "    \"\"\"\n",
    "    \"\"\"\n",
    "    :param x_tensor: TensorFlow Tensor\n",
    "    :param conv_num_outputs: Number of outputs for the convolutional layer\n",
    "    :param conv_strides: Stride 2-D Tuple for convolution\n",
    "    :param pool_ksize: kernal size 2-D Tuple for pool\n",
    "    :param pool_strides: Stride 2-D Tuple for pool\n",
    "    \"\"\"\n",
    "    conv_num_outputs = 32\n",
    "    conv_ksize = [2, 2]\n",
    "    conv_strides = [1, 1]\n",
    "    pool_ksize = [2, 2]\n",
    "    pool_strides = [2, 2]\n",
    "#   Convolution layer\n",
    "    conv_layer1 = conv2d_maxpool(x, \n",
    "                                 conv_num_outputs, \n",
    "                                 conv_ksize, \n",
    "                                 conv_strides, \n",
    "                                 pool_ksize, \n",
    "                                 pool_strides)\n",
    "#   Flattening layer\n",
    "    flattened = flatten(conv_layer1)\n",
    "    \n",
    "#   Fully connected layers  \n",
    "    num_outputs = 100\n",
    "    fc_layer1 = fully_conn(flattened, num_outputs)\n",
    "    fc_layer1 = tf.nn.dropout(fc_layer1, keep_prob)\n",
    "    \n",
    "    num_outputs = 100\n",
    "    fc_layer2 = fully_conn(fc_layer1, num_outputs)\n",
    "    fc_layer2 = tf.nn.dropout(fc_layer2, keep_prob)\n",
    "    \n",
    "#   Output Layer\n",
    "    num_outputs = 10\n",
    "    output_layer = output(fc_layer2, num_outputs)\n",
    "    \n",
    "    return output_layer\n",
    "\n",
    "\"\"\"\n",
    "DON'T MODIFY ANYTHING IN THIS CELL THAT IS BELOW THIS LINE\n",
    "\"\"\"\n",
    "\n",
    "##############################\n",
    "## Build the Neural Network ##\n",
    "##############################\n",
    "\n",
    "# Remove previous weights, bias, inputs, etc..\n",
    "tf.reset_default_graph()\n",
    "\n",
    "# Inputs\n",
    "x = neural_net_image_input((32, 32, 3))\n",
    "y = neural_net_label_input(10)\n",
    "keep_prob = neural_net_keep_prob_input()\n",
    "\n",
    "# Model\n",
    "logits = conv_net(x, keep_prob)\n",
    "\n",
    "# Name logits Tensor, so that is can be loaded from disk after training\n",
    "logits = tf.identity(logits, name='logits')\n",
    "\n",
    "# Loss and Optimizer\n",
    "cost = tf.reduce_mean(tf.nn.softmax_cross_entropy_with_logits(logits=logits, labels=y))\n",
    "optimizer = tf.train.AdamOptimizer().minimize(cost)\n",
    "\n",
    "# Accuracy\n",
    "correct_pred = tf.equal(tf.argmax(logits, 1), tf.argmax(y, 1))\n",
    "accuracy = tf.reduce_mean(tf.cast(correct_pred, tf.float32), name='accuracy')\n",
    "\n",
    "tests.test_conv_net(conv_net)"
   ]
  },
  {
   "cell_type": "markdown",
   "metadata": {},
   "source": [
    "## Train the Neural Network\n",
    "### Single Optimization\n",
    "Implement the function `train_neural_network` to do a single optimization.  The optimization should use `optimizer` to optimize in `session` with a `feed_dict` of the following:\n",
    "* `x` for image input\n",
    "* `y` for labels\n",
    "* `keep_prob` for keep probability for dropout\n",
    "\n",
    "This function will be called for each batch, so `tf.global_variables_initializer()` has already been called.\n",
    "\n",
    "Note: Nothing needs to be returned. This function is only optimizing the neural network."
   ]
  },
  {
   "cell_type": "code",
   "execution_count": 14,
   "metadata": {
    "collapsed": false
   },
   "outputs": [
    {
     "name": "stdout",
     "output_type": "stream",
     "text": [
      "Tests Passed\n"
     ]
    }
   ],
   "source": [
    "def train_neural_network(session, optimizer, keep_probability, feature_batch, label_batch):\n",
    "    \"\"\"\n",
    "    Optimize the session on a batch of images and labels\n",
    "    : session: Current TensorFlow session\n",
    "    : optimizer: TensorFlow optimizer function\n",
    "    : keep_probability: keep probability\n",
    "    : feature_batch: Batch of Numpy image data\n",
    "    : label_batch: Batch of Numpy label data\n",
    "    \"\"\"\n",
    "    session.run(optimizer, \n",
    "                feed_dict={x: feature_batch, \n",
    "                           y: label_batch, \n",
    "                           keep_prob: keep_probability})\n",
    "\"\"\"\n",
    "DON'T MODIFY ANYTHING IN THIS CELL THAT IS BELOW THIS LINE\n",
    "\"\"\"\n",
    "tests.test_train_nn(train_neural_network)"
   ]
  },
  {
   "cell_type": "markdown",
   "metadata": {},
   "source": [
    "### Show Stats\n",
    "Implement the function `print_stats` to print loss and validation accuracy.  Use the global variables `valid_features` and `valid_labels` to calculate validation accuracy.  Use a keep probability of `1.0` to calculate the loss and validation accuracy."
   ]
  },
  {
   "cell_type": "code",
   "execution_count": 15,
   "metadata": {
    "collapsed": false
   },
   "outputs": [],
   "source": [
    "def print_stats(session, feature_batch, label_batch, cost, accuracy):\n",
    "    \"\"\"\n",
    "    Print information about loss and validation accuracy\n",
    "    : session: Current TensorFlow session\n",
    "    : feature_batch: Batch of Numpy image data\n",
    "    : label_batch: Batch of Numpy label data\n",
    "    : cost: TensorFlow cost function\n",
    "    : accuracy: TensorFlow accuracy function\n",
    "    \"\"\"\n",
    "    loss = session.run(cost, feed_dict={x: feature_batch,\n",
    "                                        y: label_batch,\n",
    "                                        keep_prob: 1.})\n",
    "    valid_acc = sess.run(accuracy, feed_dict={x: valid_features,\n",
    "                                              y: valid_labels,\n",
    "                                              keep_prob: 1.})\n",
    "\n",
    "    print('Loss:{:.4f} Validation Accuracy:{:.4f}'.format(loss, valid_acc))\n"
   ]
  },
  {
   "cell_type": "markdown",
   "metadata": {},
   "source": [
    "### Hyperparameters\n",
    "Tune the following parameters:\n",
    "* Set `epochs` to the number of iterations until the network stops learning or start overfitting\n",
    "* Set `batch_size` to the highest number that your machine has memory for.  Most people set them to common sizes of memory:\n",
    " * 64\n",
    " * 128\n",
    " * 256\n",
    " * ...\n",
    "* Set `keep_probability` to the probability of keeping a node using dropout"
   ]
  },
  {
   "cell_type": "code",
   "execution_count": 16,
   "metadata": {
    "collapsed": true
   },
   "outputs": [],
   "source": [
    "epochs = 50\n",
    "batch_size = 128\n",
    "keep_probability = 0.75"
   ]
  },
  {
   "cell_type": "markdown",
   "metadata": {},
   "source": [
    "### Train on a Single CIFAR-10 Batch\n",
    "Instead of training the neural network on all the CIFAR-10 batches of data, let's use a single batch. This should save time while you iterate on the model to get a better accuracy.  Once the final validation accuracy is 50% or greater, run the model on all the data in the next section."
   ]
  },
  {
   "cell_type": "code",
   "execution_count": 17,
   "metadata": {
    "collapsed": false
   },
   "outputs": [
    {
     "name": "stdout",
     "output_type": "stream",
     "text": [
      "Checking the Training on a Single Batch...\n",
      "Epoch  1, CIFAR-10 Batch 1:  Loss:2.1500 Validation Accuracy:0.2866\n",
      "Epoch  2, CIFAR-10 Batch 1:  Loss:1.9559 Validation Accuracy:0.3812\n",
      "Epoch  3, CIFAR-10 Batch 1:  Loss:1.7773 Validation Accuracy:0.4170\n",
      "Epoch  4, CIFAR-10 Batch 1:  Loss:1.5936 Validation Accuracy:0.4462\n",
      "Epoch  5, CIFAR-10 Batch 1:  Loss:1.4437 Validation Accuracy:0.4656\n",
      "Epoch  6, CIFAR-10 Batch 1:  Loss:1.3280 Validation Accuracy:0.4752\n",
      "Epoch  7, CIFAR-10 Batch 1:  Loss:1.1922 Validation Accuracy:0.4894\n",
      "Epoch  8, CIFAR-10 Batch 1:  Loss:1.0798 Validation Accuracy:0.4948\n",
      "Epoch  9, CIFAR-10 Batch 1:  Loss:0.9752 Validation Accuracy:0.5028\n",
      "Epoch 10, CIFAR-10 Batch 1:  Loss:0.8579 Validation Accuracy:0.5194\n",
      "Epoch 11, CIFAR-10 Batch 1:  Loss:0.7964 Validation Accuracy:0.5212\n",
      "Epoch 12, CIFAR-10 Batch 1:  Loss:0.7277 Validation Accuracy:0.5252\n",
      "Epoch 13, CIFAR-10 Batch 1:  Loss:0.6821 Validation Accuracy:0.5352\n",
      "Epoch 14, CIFAR-10 Batch 1:  Loss:0.6617 Validation Accuracy:0.5296\n",
      "Epoch 15, CIFAR-10 Batch 1:  Loss:0.5738 Validation Accuracy:0.5378\n",
      "Epoch 16, CIFAR-10 Batch 1:  Loss:0.5453 Validation Accuracy:0.5484\n",
      "Epoch 17, CIFAR-10 Batch 1:  Loss:0.5373 Validation Accuracy:0.5400\n",
      "Epoch 18, CIFAR-10 Batch 1:  Loss:0.5208 Validation Accuracy:0.5416\n",
      "Epoch 19, CIFAR-10 Batch 1:  Loss:0.4476 Validation Accuracy:0.5466\n",
      "Epoch 20, CIFAR-10 Batch 1:  Loss:0.4231 Validation Accuracy:0.5466\n",
      "Epoch 21, CIFAR-10 Batch 1:  Loss:0.3785 Validation Accuracy:0.5498\n",
      "Epoch 22, CIFAR-10 Batch 1:  Loss:0.3614 Validation Accuracy:0.5494\n",
      "Epoch 23, CIFAR-10 Batch 1:  Loss:0.3304 Validation Accuracy:0.5458\n",
      "Epoch 24, CIFAR-10 Batch 1:  Loss:0.3245 Validation Accuracy:0.5462\n",
      "Epoch 25, CIFAR-10 Batch 1:  Loss:0.2753 Validation Accuracy:0.5414\n",
      "Epoch 26, CIFAR-10 Batch 1:  Loss:0.2653 Validation Accuracy:0.5436\n",
      "Epoch 27, CIFAR-10 Batch 1:  Loss:0.2393 Validation Accuracy:0.5282\n",
      "Epoch 28, CIFAR-10 Batch 1:  Loss:0.2002 Validation Accuracy:0.5340\n",
      "Epoch 29, CIFAR-10 Batch 1:  Loss:0.1964 Validation Accuracy:0.5324\n",
      "Epoch 30, CIFAR-10 Batch 1:  Loss:0.1600 Validation Accuracy:0.5344\n",
      "Epoch 31, CIFAR-10 Batch 1:  Loss:0.1637 Validation Accuracy:0.5408\n",
      "Epoch 32, CIFAR-10 Batch 1:  Loss:0.1455 Validation Accuracy:0.5472\n",
      "Epoch 33, CIFAR-10 Batch 1:  Loss:0.1420 Validation Accuracy:0.5412\n",
      "Epoch 34, CIFAR-10 Batch 1:  Loss:0.1362 Validation Accuracy:0.5372\n",
      "Epoch 35, CIFAR-10 Batch 1:  Loss:0.1255 Validation Accuracy:0.5438\n",
      "Epoch 36, CIFAR-10 Batch 1:  Loss:0.1175 Validation Accuracy:0.5392\n",
      "Epoch 37, CIFAR-10 Batch 1:  Loss:0.1032 Validation Accuracy:0.5278\n",
      "Epoch 38, CIFAR-10 Batch 1:  Loss:0.1128 Validation Accuracy:0.5262\n",
      "Epoch 39, CIFAR-10 Batch 1:  Loss:0.1024 Validation Accuracy:0.5370\n",
      "Epoch 40, CIFAR-10 Batch 1:  Loss:0.0898 Validation Accuracy:0.5228\n",
      "Epoch 41, CIFAR-10 Batch 1:  Loss:0.0826 Validation Accuracy:0.5250\n",
      "Epoch 42, CIFAR-10 Batch 1:  Loss:0.1019 Validation Accuracy:0.5220\n",
      "Epoch 43, CIFAR-10 Batch 1:  Loss:0.0702 Validation Accuracy:0.5332\n",
      "Epoch 44, CIFAR-10 Batch 1:  Loss:0.0697 Validation Accuracy:0.5338\n",
      "Epoch 45, CIFAR-10 Batch 1:  Loss:0.0479 Validation Accuracy:0.5282\n",
      "Epoch 46, CIFAR-10 Batch 1:  Loss:0.0547 Validation Accuracy:0.5272\n",
      "Epoch 47, CIFAR-10 Batch 1:  Loss:0.0419 Validation Accuracy:0.5318\n",
      "Epoch 48, CIFAR-10 Batch 1:  Loss:0.0378 Validation Accuracy:0.5322\n",
      "Epoch 49, CIFAR-10 Batch 1:  Loss:0.0354 Validation Accuracy:0.5334\n",
      "Epoch 50, CIFAR-10 Batch 1:  Loss:0.0309 Validation Accuracy:0.5260\n"
     ]
    }
   ],
   "source": [
    "\"\"\"\n",
    "DON'T MODIFY ANYTHING IN THIS CELL\n",
    "\"\"\"\n",
    "print('Checking the Training on a Single Batch...')\n",
    "with tf.Session() as sess:\n",
    "    # Initializing the variables\n",
    "    sess.run(tf.global_variables_initializer())\n",
    "    \n",
    "    # Training cycle\n",
    "    for epoch in range(epochs):\n",
    "        batch_i = 1\n",
    "        for batch_features, batch_labels in helper.load_preprocess_training_batch(batch_i, batch_size):\n",
    "            train_neural_network(sess, optimizer, keep_probability, batch_features, batch_labels)\n",
    "        print('Epoch {:>2}, CIFAR-10 Batch {}:  '.format(epoch + 1, batch_i), end='')\n",
    "        print_stats(sess, batch_features, batch_labels, cost, accuracy)"
   ]
  },
  {
   "cell_type": "markdown",
   "metadata": {},
   "source": [
    "### Fully Train the Model\n",
    "Now that you got a good accuracy with a single CIFAR-10 batch, try it with all five batches."
   ]
  },
  {
   "cell_type": "code",
   "execution_count": 18,
   "metadata": {
    "collapsed": false
   },
   "outputs": [
    {
     "name": "stdout",
     "output_type": "stream",
     "text": [
      "Training...\n",
      "Epoch  1, CIFAR-10 Batch 1:  Loss:2.0420 Validation Accuracy:0.3622\n",
      "Epoch  1, CIFAR-10 Batch 2:  Loss:1.7343 Validation Accuracy:0.4094\n",
      "Epoch  1, CIFAR-10 Batch 3:  Loss:1.3867 Validation Accuracy:0.4438\n",
      "Epoch  1, CIFAR-10 Batch 4:  Loss:1.4722 Validation Accuracy:0.4718\n",
      "Epoch  1, CIFAR-10 Batch 5:  Loss:1.4332 Validation Accuracy:0.4932\n",
      "Epoch  2, CIFAR-10 Batch 1:  Loss:1.5131 Validation Accuracy:0.5136\n",
      "Epoch  2, CIFAR-10 Batch 2:  Loss:1.1352 Validation Accuracy:0.5252\n",
      "Epoch  2, CIFAR-10 Batch 3:  Loss:1.0539 Validation Accuracy:0.5194\n",
      "Epoch  2, CIFAR-10 Batch 4:  Loss:1.1725 Validation Accuracy:0.5526\n",
      "Epoch  2, CIFAR-10 Batch 5:  Loss:1.2021 Validation Accuracy:0.5496\n",
      "Epoch  3, CIFAR-10 Batch 1:  Loss:1.2315 Validation Accuracy:0.5640\n",
      "Epoch  3, CIFAR-10 Batch 2:  Loss:0.8985 Validation Accuracy:0.5654\n",
      "Epoch  3, CIFAR-10 Batch 3:  Loss:0.8415 Validation Accuracy:0.5638\n",
      "Epoch  3, CIFAR-10 Batch 4:  Loss:1.0126 Validation Accuracy:0.5854\n",
      "Epoch  3, CIFAR-10 Batch 5:  Loss:1.1065 Validation Accuracy:0.5668\n",
      "Epoch  4, CIFAR-10 Batch 1:  Loss:1.1558 Validation Accuracy:0.5878\n",
      "Epoch  4, CIFAR-10 Batch 2:  Loss:0.7620 Validation Accuracy:0.5940\n",
      "Epoch  4, CIFAR-10 Batch 3:  Loss:0.7013 Validation Accuracy:0.5918\n",
      "Epoch  4, CIFAR-10 Batch 4:  Loss:0.8560 Validation Accuracy:0.6016\n",
      "Epoch  4, CIFAR-10 Batch 5:  Loss:0.9723 Validation Accuracy:0.5790\n",
      "Epoch  5, CIFAR-10 Batch 1:  Loss:1.0505 Validation Accuracy:0.5942\n",
      "Epoch  5, CIFAR-10 Batch 2:  Loss:0.6971 Validation Accuracy:0.6030\n",
      "Epoch  5, CIFAR-10 Batch 3:  Loss:0.5883 Validation Accuracy:0.5952\n",
      "Epoch  5, CIFAR-10 Batch 4:  Loss:0.7848 Validation Accuracy:0.6142\n",
      "Epoch  5, CIFAR-10 Batch 5:  Loss:0.7683 Validation Accuracy:0.5932\n",
      "Epoch  6, CIFAR-10 Batch 1:  Loss:0.8982 Validation Accuracy:0.6060\n",
      "Epoch  6, CIFAR-10 Batch 2:  Loss:0.6298 Validation Accuracy:0.5978\n",
      "Epoch  6, CIFAR-10 Batch 3:  Loss:0.5513 Validation Accuracy:0.6056\n",
      "Epoch  6, CIFAR-10 Batch 4:  Loss:0.6815 Validation Accuracy:0.6162\n",
      "Epoch  6, CIFAR-10 Batch 5:  Loss:0.7056 Validation Accuracy:0.5814\n",
      "Epoch  7, CIFAR-10 Batch 1:  Loss:0.8303 Validation Accuracy:0.6160\n",
      "Epoch  7, CIFAR-10 Batch 2:  Loss:0.5195 Validation Accuracy:0.6052\n",
      "Epoch  7, CIFAR-10 Batch 3:  Loss:0.4624 Validation Accuracy:0.6146\n",
      "Epoch  7, CIFAR-10 Batch 4:  Loss:0.6131 Validation Accuracy:0.6188\n",
      "Epoch  7, CIFAR-10 Batch 5:  Loss:0.5538 Validation Accuracy:0.6124\n",
      "Epoch  8, CIFAR-10 Batch 1:  Loss:0.7243 Validation Accuracy:0.6210\n",
      "Epoch  8, CIFAR-10 Batch 2:  Loss:0.4584 Validation Accuracy:0.6144\n",
      "Epoch  8, CIFAR-10 Batch 3:  Loss:0.4168 Validation Accuracy:0.6308\n",
      "Epoch  8, CIFAR-10 Batch 4:  Loss:0.5346 Validation Accuracy:0.6226\n",
      "Epoch  8, CIFAR-10 Batch 5:  Loss:0.5340 Validation Accuracy:0.6122\n",
      "Epoch  9, CIFAR-10 Batch 1:  Loss:0.6532 Validation Accuracy:0.6184\n",
      "Epoch  9, CIFAR-10 Batch 2:  Loss:0.3669 Validation Accuracy:0.6112\n",
      "Epoch  9, CIFAR-10 Batch 3:  Loss:0.3319 Validation Accuracy:0.6208\n",
      "Epoch  9, CIFAR-10 Batch 4:  Loss:0.4666 Validation Accuracy:0.6226\n",
      "Epoch  9, CIFAR-10 Batch 5:  Loss:0.4649 Validation Accuracy:0.6160\n",
      "Epoch 10, CIFAR-10 Batch 1:  Loss:0.6007 Validation Accuracy:0.6126\n",
      "Epoch 10, CIFAR-10 Batch 2:  Loss:0.3298 Validation Accuracy:0.5988\n",
      "Epoch 10, CIFAR-10 Batch 3:  Loss:0.3209 Validation Accuracy:0.6264\n",
      "Epoch 10, CIFAR-10 Batch 4:  Loss:0.4554 Validation Accuracy:0.6180\n",
      "Epoch 10, CIFAR-10 Batch 5:  Loss:0.4302 Validation Accuracy:0.6242\n",
      "Epoch 11, CIFAR-10 Batch 1:  Loss:0.5556 Validation Accuracy:0.6284\n",
      "Epoch 11, CIFAR-10 Batch 2:  Loss:0.3021 Validation Accuracy:0.6218\n",
      "Epoch 11, CIFAR-10 Batch 3:  Loss:0.3256 Validation Accuracy:0.6208\n",
      "Epoch 11, CIFAR-10 Batch 4:  Loss:0.3918 Validation Accuracy:0.6128\n",
      "Epoch 11, CIFAR-10 Batch 5:  Loss:0.4370 Validation Accuracy:0.6226\n",
      "Epoch 12, CIFAR-10 Batch 1:  Loss:0.4896 Validation Accuracy:0.6264\n",
      "Epoch 12, CIFAR-10 Batch 2:  Loss:0.2952 Validation Accuracy:0.6190\n",
      "Epoch 12, CIFAR-10 Batch 3:  Loss:0.2868 Validation Accuracy:0.6168\n",
      "Epoch 12, CIFAR-10 Batch 4:  Loss:0.3414 Validation Accuracy:0.6230\n",
      "Epoch 12, CIFAR-10 Batch 5:  Loss:0.3485 Validation Accuracy:0.6244\n",
      "Epoch 13, CIFAR-10 Batch 1:  Loss:0.4345 Validation Accuracy:0.6278\n",
      "Epoch 13, CIFAR-10 Batch 2:  Loss:0.2584 Validation Accuracy:0.6252\n",
      "Epoch 13, CIFAR-10 Batch 3:  Loss:0.2483 Validation Accuracy:0.6044\n",
      "Epoch 13, CIFAR-10 Batch 4:  Loss:0.2891 Validation Accuracy:0.6332\n",
      "Epoch 13, CIFAR-10 Batch 5:  Loss:0.2701 Validation Accuracy:0.6336\n",
      "Epoch 14, CIFAR-10 Batch 1:  Loss:0.3696 Validation Accuracy:0.6316\n",
      "Epoch 14, CIFAR-10 Batch 2:  Loss:0.2459 Validation Accuracy:0.6314\n",
      "Epoch 14, CIFAR-10 Batch 3:  Loss:0.2042 Validation Accuracy:0.6286\n",
      "Epoch 14, CIFAR-10 Batch 4:  Loss:0.3030 Validation Accuracy:0.6314\n",
      "Epoch 14, CIFAR-10 Batch 5:  Loss:0.2610 Validation Accuracy:0.6292\n",
      "Epoch 15, CIFAR-10 Batch 1:  Loss:0.3488 Validation Accuracy:0.6312\n",
      "Epoch 15, CIFAR-10 Batch 2:  Loss:0.2521 Validation Accuracy:0.6180\n",
      "Epoch 15, CIFAR-10 Batch 3:  Loss:0.2025 Validation Accuracy:0.6300\n",
      "Epoch 15, CIFAR-10 Batch 4:  Loss:0.2416 Validation Accuracy:0.6284\n",
      "Epoch 15, CIFAR-10 Batch 5:  Loss:0.2341 Validation Accuracy:0.6304\n",
      "Epoch 16, CIFAR-10 Batch 1:  Loss:0.3733 Validation Accuracy:0.6224\n",
      "Epoch 16, CIFAR-10 Batch 2:  Loss:0.2367 Validation Accuracy:0.6242\n",
      "Epoch 16, CIFAR-10 Batch 3:  Loss:0.1624 Validation Accuracy:0.6320\n",
      "Epoch 16, CIFAR-10 Batch 4:  Loss:0.2295 Validation Accuracy:0.6248\n",
      "Epoch 16, CIFAR-10 Batch 5:  Loss:0.1813 Validation Accuracy:0.6228\n",
      "Epoch 17, CIFAR-10 Batch 1:  Loss:0.3157 Validation Accuracy:0.6214\n",
      "Epoch 17, CIFAR-10 Batch 2:  Loss:0.2419 Validation Accuracy:0.6334\n",
      "Epoch 17, CIFAR-10 Batch 3:  Loss:0.1697 Validation Accuracy:0.6276\n",
      "Epoch 17, CIFAR-10 Batch 4:  Loss:0.2203 Validation Accuracy:0.6250\n",
      "Epoch 17, CIFAR-10 Batch 5:  Loss:0.1750 Validation Accuracy:0.6334\n",
      "Epoch 18, CIFAR-10 Batch 1:  Loss:0.2863 Validation Accuracy:0.6318\n",
      "Epoch 18, CIFAR-10 Batch 2:  Loss:0.1952 Validation Accuracy:0.6254\n",
      "Epoch 18, CIFAR-10 Batch 3:  Loss:0.1248 Validation Accuracy:0.6338\n",
      "Epoch 18, CIFAR-10 Batch 4:  Loss:0.2456 Validation Accuracy:0.6246\n",
      "Epoch 18, CIFAR-10 Batch 5:  Loss:0.1685 Validation Accuracy:0.6308\n",
      "Epoch 19, CIFAR-10 Batch 1:  Loss:0.2810 Validation Accuracy:0.6294\n",
      "Epoch 19, CIFAR-10 Batch 2:  Loss:0.1976 Validation Accuracy:0.6312\n",
      "Epoch 19, CIFAR-10 Batch 3:  Loss:0.1304 Validation Accuracy:0.6236\n",
      "Epoch 19, CIFAR-10 Batch 4:  Loss:0.1923 Validation Accuracy:0.6186\n",
      "Epoch 19, CIFAR-10 Batch 5:  Loss:0.1210 Validation Accuracy:0.6280\n",
      "Epoch 20, CIFAR-10 Batch 1:  Loss:0.2808 Validation Accuracy:0.6188\n",
      "Epoch 20, CIFAR-10 Batch 2:  Loss:0.1878 Validation Accuracy:0.6186\n",
      "Epoch 20, CIFAR-10 Batch 3:  Loss:0.1151 Validation Accuracy:0.6196\n",
      "Epoch 20, CIFAR-10 Batch 4:  Loss:0.1667 Validation Accuracy:0.6210\n",
      "Epoch 20, CIFAR-10 Batch 5:  Loss:0.1385 Validation Accuracy:0.6224\n",
      "Epoch 21, CIFAR-10 Batch 1:  Loss:0.2777 Validation Accuracy:0.6076\n",
      "Epoch 21, CIFAR-10 Batch 2:  Loss:0.1834 Validation Accuracy:0.6174\n",
      "Epoch 21, CIFAR-10 Batch 3:  Loss:0.1134 Validation Accuracy:0.6172\n",
      "Epoch 21, CIFAR-10 Batch 4:  Loss:0.1508 Validation Accuracy:0.6210\n",
      "Epoch 21, CIFAR-10 Batch 5:  Loss:0.1146 Validation Accuracy:0.6194\n",
      "Epoch 22, CIFAR-10 Batch 1:  Loss:0.2446 Validation Accuracy:0.6112\n",
      "Epoch 22, CIFAR-10 Batch 2:  Loss:0.1396 Validation Accuracy:0.6126\n",
      "Epoch 22, CIFAR-10 Batch 3:  Loss:0.1047 Validation Accuracy:0.6282\n",
      "Epoch 22, CIFAR-10 Batch 4:  Loss:0.1493 Validation Accuracy:0.6178\n",
      "Epoch 22, CIFAR-10 Batch 5:  Loss:0.0960 Validation Accuracy:0.6188\n",
      "Epoch 23, CIFAR-10 Batch 1:  Loss:0.2382 Validation Accuracy:0.6118\n",
      "Epoch 23, CIFAR-10 Batch 2:  Loss:0.1607 Validation Accuracy:0.6264\n",
      "Epoch 23, CIFAR-10 Batch 3:  Loss:0.0854 Validation Accuracy:0.6210\n",
      "Epoch 23, CIFAR-10 Batch 4:  Loss:0.1346 Validation Accuracy:0.6102\n",
      "Epoch 23, CIFAR-10 Batch 5:  Loss:0.0901 Validation Accuracy:0.6284\n",
      "Epoch 24, CIFAR-10 Batch 1:  Loss:0.2043 Validation Accuracy:0.6060\n",
      "Epoch 24, CIFAR-10 Batch 2:  Loss:0.1292 Validation Accuracy:0.6158\n",
      "Epoch 24, CIFAR-10 Batch 3:  Loss:0.0984 Validation Accuracy:0.6168\n",
      "Epoch 24, CIFAR-10 Batch 4:  Loss:0.1103 Validation Accuracy:0.6102\n",
      "Epoch 24, CIFAR-10 Batch 5:  Loss:0.0913 Validation Accuracy:0.6192\n",
      "Epoch 25, CIFAR-10 Batch 1:  Loss:0.2207 Validation Accuracy:0.6164\n",
      "Epoch 25, CIFAR-10 Batch 2:  Loss:0.1345 Validation Accuracy:0.6188\n",
      "Epoch 25, CIFAR-10 Batch 3:  Loss:0.0683 Validation Accuracy:0.6242\n",
      "Epoch 25, CIFAR-10 Batch 4:  Loss:0.1079 Validation Accuracy:0.6116\n",
      "Epoch 25, CIFAR-10 Batch 5:  Loss:0.0911 Validation Accuracy:0.6188\n",
      "Epoch 26, CIFAR-10 Batch 1:  Loss:0.2274 Validation Accuracy:0.6068\n",
      "Epoch 26, CIFAR-10 Batch 2:  Loss:0.1121 Validation Accuracy:0.6162\n",
      "Epoch 26, CIFAR-10 Batch 3:  Loss:0.0612 Validation Accuracy:0.6188\n",
      "Epoch 26, CIFAR-10 Batch 4:  Loss:0.0937 Validation Accuracy:0.6196\n",
      "Epoch 26, CIFAR-10 Batch 5:  Loss:0.0624 Validation Accuracy:0.6274\n",
      "Epoch 27, CIFAR-10 Batch 1:  Loss:0.1790 Validation Accuracy:0.6204\n",
      "Epoch 27, CIFAR-10 Batch 2:  Loss:0.1084 Validation Accuracy:0.6134\n",
      "Epoch 27, CIFAR-10 Batch 3:  Loss:0.0667 Validation Accuracy:0.6268\n",
      "Epoch 27, CIFAR-10 Batch 4:  Loss:0.0878 Validation Accuracy:0.6082\n",
      "Epoch 27, CIFAR-10 Batch 5:  Loss:0.0570 Validation Accuracy:0.6188\n",
      "Epoch 28, CIFAR-10 Batch 1:  Loss:0.1774 Validation Accuracy:0.6188\n",
      "Epoch 28, CIFAR-10 Batch 2:  Loss:0.0899 Validation Accuracy:0.6144\n",
      "Epoch 28, CIFAR-10 Batch 3:  Loss:0.0662 Validation Accuracy:0.6224\n",
      "Epoch 28, CIFAR-10 Batch 4:  Loss:0.0722 Validation Accuracy:0.6118\n",
      "Epoch 28, CIFAR-10 Batch 5:  Loss:0.0574 Validation Accuracy:0.6220\n",
      "Epoch 29, CIFAR-10 Batch 1:  Loss:0.1728 Validation Accuracy:0.6206\n",
      "Epoch 29, CIFAR-10 Batch 2:  Loss:0.0860 Validation Accuracy:0.6198\n",
      "Epoch 29, CIFAR-10 Batch 3:  Loss:0.1131 Validation Accuracy:0.6246\n",
      "Epoch 29, CIFAR-10 Batch 4:  Loss:0.0758 Validation Accuracy:0.6294\n",
      "Epoch 29, CIFAR-10 Batch 5:  Loss:0.0524 Validation Accuracy:0.6274\n",
      "Epoch 30, CIFAR-10 Batch 1:  Loss:0.1697 Validation Accuracy:0.6200\n",
      "Epoch 30, CIFAR-10 Batch 2:  Loss:0.0883 Validation Accuracy:0.6026\n",
      "Epoch 30, CIFAR-10 Batch 3:  Loss:0.0532 Validation Accuracy:0.6262\n",
      "Epoch 30, CIFAR-10 Batch 4:  Loss:0.0786 Validation Accuracy:0.6290\n",
      "Epoch 30, CIFAR-10 Batch 5:  Loss:0.0535 Validation Accuracy:0.6158\n",
      "Epoch 31, CIFAR-10 Batch 1:  Loss:0.1358 Validation Accuracy:0.6250\n",
      "Epoch 31, CIFAR-10 Batch 2:  Loss:0.0557 Validation Accuracy:0.6146\n",
      "Epoch 31, CIFAR-10 Batch 3:  Loss:0.0786 Validation Accuracy:0.6186\n",
      "Epoch 31, CIFAR-10 Batch 4:  Loss:0.0613 Validation Accuracy:0.6226\n",
      "Epoch 31, CIFAR-10 Batch 5:  Loss:0.0345 Validation Accuracy:0.6226\n",
      "Epoch 32, CIFAR-10 Batch 1:  Loss:0.1119 Validation Accuracy:0.6160\n",
      "Epoch 32, CIFAR-10 Batch 2:  Loss:0.0603 Validation Accuracy:0.6186\n",
      "Epoch 32, CIFAR-10 Batch 3:  Loss:0.0582 Validation Accuracy:0.6204\n",
      "Epoch 32, CIFAR-10 Batch 4:  Loss:0.0550 Validation Accuracy:0.6156\n",
      "Epoch 32, CIFAR-10 Batch 5:  Loss:0.0338 Validation Accuracy:0.6292\n",
      "Epoch 33, CIFAR-10 Batch 1:  Loss:0.1231 Validation Accuracy:0.6244\n",
      "Epoch 33, CIFAR-10 Batch 2:  Loss:0.0390 Validation Accuracy:0.6158\n",
      "Epoch 33, CIFAR-10 Batch 3:  Loss:0.0643 Validation Accuracy:0.6274\n",
      "Epoch 33, CIFAR-10 Batch 4:  Loss:0.0578 Validation Accuracy:0.6150\n",
      "Epoch 33, CIFAR-10 Batch 5:  Loss:0.0411 Validation Accuracy:0.6086\n",
      "Epoch 34, CIFAR-10 Batch 1:  Loss:0.1087 Validation Accuracy:0.6178\n",
      "Epoch 34, CIFAR-10 Batch 2:  Loss:0.0501 Validation Accuracy:0.6258\n",
      "Epoch 34, CIFAR-10 Batch 3:  Loss:0.0635 Validation Accuracy:0.6106\n",
      "Epoch 34, CIFAR-10 Batch 4:  Loss:0.0687 Validation Accuracy:0.6090\n",
      "Epoch 34, CIFAR-10 Batch 5:  Loss:0.0345 Validation Accuracy:0.6152\n",
      "Epoch 35, CIFAR-10 Batch 1:  Loss:0.1041 Validation Accuracy:0.6226\n",
      "Epoch 35, CIFAR-10 Batch 2:  Loss:0.0556 Validation Accuracy:0.6108\n",
      "Epoch 35, CIFAR-10 Batch 3:  Loss:0.0664 Validation Accuracy:0.6234\n",
      "Epoch 35, CIFAR-10 Batch 4:  Loss:0.0471 Validation Accuracy:0.6158\n",
      "Epoch 35, CIFAR-10 Batch 5:  Loss:0.0276 Validation Accuracy:0.6132\n",
      "Epoch 36, CIFAR-10 Batch 1:  Loss:0.0947 Validation Accuracy:0.6268\n",
      "Epoch 36, CIFAR-10 Batch 2:  Loss:0.0440 Validation Accuracy:0.6206\n",
      "Epoch 36, CIFAR-10 Batch 3:  Loss:0.0567 Validation Accuracy:0.6206\n",
      "Epoch 36, CIFAR-10 Batch 4:  Loss:0.0675 Validation Accuracy:0.6170\n",
      "Epoch 36, CIFAR-10 Batch 5:  Loss:0.0261 Validation Accuracy:0.6138\n",
      "Epoch 37, CIFAR-10 Batch 1:  Loss:0.0835 Validation Accuracy:0.6208\n",
      "Epoch 37, CIFAR-10 Batch 2:  Loss:0.0346 Validation Accuracy:0.6160\n",
      "Epoch 37, CIFAR-10 Batch 3:  Loss:0.0628 Validation Accuracy:0.6074\n",
      "Epoch 37, CIFAR-10 Batch 4:  Loss:0.0385 Validation Accuracy:0.6098\n",
      "Epoch 37, CIFAR-10 Batch 5:  Loss:0.0285 Validation Accuracy:0.6138\n",
      "Epoch 38, CIFAR-10 Batch 1:  Loss:0.0776 Validation Accuracy:0.6278\n",
      "Epoch 38, CIFAR-10 Batch 2:  Loss:0.0545 Validation Accuracy:0.5986\n",
      "Epoch 38, CIFAR-10 Batch 3:  Loss:0.0468 Validation Accuracy:0.6130\n",
      "Epoch 38, CIFAR-10 Batch 4:  Loss:0.0499 Validation Accuracy:0.6144\n",
      "Epoch 38, CIFAR-10 Batch 5:  Loss:0.0228 Validation Accuracy:0.6150\n",
      "Epoch 39, CIFAR-10 Batch 1:  Loss:0.0741 Validation Accuracy:0.6306\n",
      "Epoch 39, CIFAR-10 Batch 2:  Loss:0.0555 Validation Accuracy:0.6172\n",
      "Epoch 39, CIFAR-10 Batch 3:  Loss:0.0492 Validation Accuracy:0.6054\n",
      "Epoch 39, CIFAR-10 Batch 4:  Loss:0.0479 Validation Accuracy:0.6158\n",
      "Epoch 39, CIFAR-10 Batch 5:  Loss:0.0325 Validation Accuracy:0.6228\n",
      "Epoch 40, CIFAR-10 Batch 1:  Loss:0.0670 Validation Accuracy:0.6284\n",
      "Epoch 40, CIFAR-10 Batch 2:  Loss:0.0481 Validation Accuracy:0.6032\n",
      "Epoch 40, CIFAR-10 Batch 3:  Loss:0.0289 Validation Accuracy:0.6240\n",
      "Epoch 40, CIFAR-10 Batch 4:  Loss:0.0360 Validation Accuracy:0.6178\n",
      "Epoch 40, CIFAR-10 Batch 5:  Loss:0.0267 Validation Accuracy:0.6150\n",
      "Epoch 41, CIFAR-10 Batch 1:  Loss:0.0749 Validation Accuracy:0.6234\n",
      "Epoch 41, CIFAR-10 Batch 2:  Loss:0.0416 Validation Accuracy:0.6158\n",
      "Epoch 41, CIFAR-10 Batch 3:  Loss:0.0359 Validation Accuracy:0.6206\n",
      "Epoch 41, CIFAR-10 Batch 4:  Loss:0.0328 Validation Accuracy:0.6150\n",
      "Epoch 41, CIFAR-10 Batch 5:  Loss:0.0319 Validation Accuracy:0.6304\n",
      "Epoch 42, CIFAR-10 Batch 1:  Loss:0.0777 Validation Accuracy:0.6228\n",
      "Epoch 42, CIFAR-10 Batch 2:  Loss:0.0478 Validation Accuracy:0.6112\n",
      "Epoch 42, CIFAR-10 Batch 3:  Loss:0.0566 Validation Accuracy:0.6106\n",
      "Epoch 42, CIFAR-10 Batch 4:  Loss:0.0383 Validation Accuracy:0.6180\n",
      "Epoch 42, CIFAR-10 Batch 5:  Loss:0.0258 Validation Accuracy:0.6200\n",
      "Epoch 43, CIFAR-10 Batch 1:  Loss:0.0718 Validation Accuracy:0.6216\n",
      "Epoch 43, CIFAR-10 Batch 2:  Loss:0.0516 Validation Accuracy:0.6014\n",
      "Epoch 43, CIFAR-10 Batch 3:  Loss:0.0223 Validation Accuracy:0.6266\n",
      "Epoch 43, CIFAR-10 Batch 4:  Loss:0.0349 Validation Accuracy:0.6082\n",
      "Epoch 43, CIFAR-10 Batch 5:  Loss:0.0225 Validation Accuracy:0.6220\n",
      "Epoch 44, CIFAR-10 Batch 1:  Loss:0.0565 Validation Accuracy:0.6192\n",
      "Epoch 44, CIFAR-10 Batch 2:  Loss:0.0407 Validation Accuracy:0.6100\n",
      "Epoch 44, CIFAR-10 Batch 3:  Loss:0.0193 Validation Accuracy:0.6240\n",
      "Epoch 44, CIFAR-10 Batch 4:  Loss:0.0314 Validation Accuracy:0.6200\n",
      "Epoch 44, CIFAR-10 Batch 5:  Loss:0.0253 Validation Accuracy:0.6328\n",
      "Epoch 45, CIFAR-10 Batch 1:  Loss:0.0625 Validation Accuracy:0.6236\n",
      "Epoch 45, CIFAR-10 Batch 2:  Loss:0.0384 Validation Accuracy:0.6114\n",
      "Epoch 45, CIFAR-10 Batch 3:  Loss:0.0198 Validation Accuracy:0.6196\n",
      "Epoch 45, CIFAR-10 Batch 4:  Loss:0.0255 Validation Accuracy:0.6208\n",
      "Epoch 45, CIFAR-10 Batch 5:  Loss:0.0189 Validation Accuracy:0.6272\n",
      "Epoch 46, CIFAR-10 Batch 1:  Loss:0.0502 Validation Accuracy:0.6234\n",
      "Epoch 46, CIFAR-10 Batch 2:  Loss:0.0373 Validation Accuracy:0.6104\n",
      "Epoch 46, CIFAR-10 Batch 3:  Loss:0.0172 Validation Accuracy:0.6228\n",
      "Epoch 46, CIFAR-10 Batch 4:  Loss:0.0504 Validation Accuracy:0.6286\n",
      "Epoch 46, CIFAR-10 Batch 5:  Loss:0.0151 Validation Accuracy:0.6268\n",
      "Epoch 47, CIFAR-10 Batch 1:  Loss:0.0592 Validation Accuracy:0.6330\n",
      "Epoch 47, CIFAR-10 Batch 2:  Loss:0.0391 Validation Accuracy:0.6128\n",
      "Epoch 47, CIFAR-10 Batch 3:  Loss:0.0179 Validation Accuracy:0.6204\n",
      "Epoch 47, CIFAR-10 Batch 4:  Loss:0.0188 Validation Accuracy:0.6168\n",
      "Epoch 47, CIFAR-10 Batch 5:  Loss:0.0159 Validation Accuracy:0.6216\n",
      "Epoch 48, CIFAR-10 Batch 1:  Loss:0.0394 Validation Accuracy:0.6174\n",
      "Epoch 48, CIFAR-10 Batch 2:  Loss:0.0300 Validation Accuracy:0.6216\n",
      "Epoch 48, CIFAR-10 Batch 3:  Loss:0.0242 Validation Accuracy:0.6202\n",
      "Epoch 48, CIFAR-10 Batch 4:  Loss:0.0208 Validation Accuracy:0.6172\n",
      "Epoch 48, CIFAR-10 Batch 5:  Loss:0.0169 Validation Accuracy:0.6234\n",
      "Epoch 49, CIFAR-10 Batch 1:  Loss:0.0514 Validation Accuracy:0.6196\n",
      "Epoch 49, CIFAR-10 Batch 2:  Loss:0.0305 Validation Accuracy:0.6144\n",
      "Epoch 49, CIFAR-10 Batch 3:  Loss:0.0146 Validation Accuracy:0.6204\n",
      "Epoch 49, CIFAR-10 Batch 4:  Loss:0.0250 Validation Accuracy:0.6164\n",
      "Epoch 49, CIFAR-10 Batch 5:  Loss:0.0139 Validation Accuracy:0.6214\n",
      "Epoch 50, CIFAR-10 Batch 1:  Loss:0.0511 Validation Accuracy:0.6196\n",
      "Epoch 50, CIFAR-10 Batch 2:  Loss:0.0360 Validation Accuracy:0.6132\n",
      "Epoch 50, CIFAR-10 Batch 3:  Loss:0.0187 Validation Accuracy:0.6256\n",
      "Epoch 50, CIFAR-10 Batch 4:  Loss:0.0196 Validation Accuracy:0.6164\n",
      "Epoch 50, CIFAR-10 Batch 5:  Loss:0.0118 Validation Accuracy:0.6228\n"
     ]
    }
   ],
   "source": [
    "\"\"\"\n",
    "DON'T MODIFY ANYTHING IN THIS CELL\n",
    "\"\"\"\n",
    "save_model_path = './image_classification'\n",
    "\n",
    "print('Training...')\n",
    "with tf.Session() as sess:\n",
    "    # Initializing the variables\n",
    "    sess.run(tf.global_variables_initializer())\n",
    "    \n",
    "    # Training cycle\n",
    "    for epoch in range(epochs):\n",
    "        # Loop over all batches\n",
    "        n_batches = 5\n",
    "        for batch_i in range(1, n_batches + 1):\n",
    "            for batch_features, batch_labels in helper.load_preprocess_training_batch(batch_i, batch_size):\n",
    "                train_neural_network(sess, optimizer, keep_probability, batch_features, batch_labels)\n",
    "            print('Epoch {:>2}, CIFAR-10 Batch {}:  '.format(epoch + 1, batch_i), end='')\n",
    "            print_stats(sess, batch_features, batch_labels, cost, accuracy)\n",
    "            \n",
    "    # Save Model\n",
    "    saver = tf.train.Saver()\n",
    "    save_path = saver.save(sess, save_model_path)"
   ]
  },
  {
   "cell_type": "markdown",
   "metadata": {},
   "source": [
    "# Checkpoint\n",
    "The model has been saved to disk.\n",
    "## Test Model\n",
    "Test your model against the test dataset.  This will be your final accuracy. You should have an accuracy greater than 50%. If you don't, keep tweaking the model architecture and parameters."
   ]
  },
  {
   "cell_type": "code",
   "execution_count": 19,
   "metadata": {
    "collapsed": false
   },
   "outputs": [
    {
     "name": "stdout",
     "output_type": "stream",
     "text": [
      "Testing Accuracy: 0.6097705696202531\n",
      "\n"
     ]
    },
    {
     "data": {
      "image/png": "[encoded data removed]",
      "text/plain": [
       "<matplotlib.figure.Figure at 0x10b484e48>"
      ]
     },
     "metadata": {
      "image/png": {
       "height": 319,
       "width": 355
      }
     },
     "output_type": "display_data"
    }
   ],
   "source": [
    "\"\"\"\n",
    "DON'T MODIFY ANYTHING IN THIS CELL\n",
    "\"\"\"\n",
    "%matplotlib inline\n",
    "%config InlineBackend.figure_format = 'retina'\n",
    "\n",
    "import tensorflow as tf\n",
    "import pickle\n",
    "import helper\n",
    "import random\n",
    "\n",
    "# Set batch size if not already set\n",
    "try:\n",
    "    if batch_size:\n",
    "        pass\n",
    "except NameError:\n",
    "    batch_size = 64\n",
    "\n",
    "save_model_path = './image_classification'\n",
    "n_samples = 4\n",
    "top_n_predictions = 3\n",
    "\n",
    "def test_model():\n",
    "    \"\"\"\n",
    "    Test the saved model against the test dataset\n",
    "    \"\"\"\n",
    "\n",
    "    test_features, test_labels = pickle.load(open('preprocess_training.p', mode='rb'))\n",
    "    loaded_graph = tf.Graph()\n",
    "\n",
    "    with tf.Session(graph=loaded_graph) as sess:\n",
    "        # Load model\n",
    "        loader = tf.train.import_meta_graph(save_model_path + '.meta')\n",
    "        loader.restore(sess, save_model_path)\n",
    "\n",
    "        # Get Tensors from loaded model\n",
    "        loaded_x = loaded_graph.get_tensor_by_name('x:0')\n",
    "        loaded_y = loaded_graph.get_tensor_by_name('y:0')\n",
    "        loaded_keep_prob = loaded_graph.get_tensor_by_name('keep_prob:0')\n",
    "        loaded_logits = loaded_graph.get_tensor_by_name('logits:0')\n",
    "        loaded_acc = loaded_graph.get_tensor_by_name('accuracy:0')\n",
    "        \n",
    "        # Get accuracy in batches for memory limitations\n",
    "        test_batch_acc_total = 0\n",
    "        test_batch_count = 0\n",
    "        \n",
    "        for train_feature_batch, train_label_batch in helper.batch_features_labels(test_features, test_labels, batch_size):\n",
    "            test_batch_acc_total += sess.run(\n",
    "                loaded_acc,\n",
    "                feed_dict={loaded_x: train_feature_batch, loaded_y: train_label_batch, loaded_keep_prob: 1.0})\n",
    "            test_batch_count += 1\n",
    "\n",
    "        print('Testing Accuracy: {}\\n'.format(test_batch_acc_total/test_batch_count))\n",
    "\n",
    "        # Print Random Samples\n",
    "        random_test_features, random_test_labels = tuple(zip(*random.sample(list(zip(test_features, test_labels)), n_samples)))\n",
    "        random_test_predictions = sess.run(\n",
    "            tf.nn.top_k(tf.nn.softmax(loaded_logits), top_n_predictions),\n",
    "            feed_dict={loaded_x: random_test_features, loaded_y: random_test_labels, loaded_keep_prob: 1.0})\n",
    "        helper.display_image_predictions(random_test_features, random_test_labels, random_test_predictions)\n",
    "\n",
    "\n",
    "test_model()"
   ]
  },
  {
   "cell_type": "markdown",
   "metadata": {},
   "source": [
    "## Why 50-70% Accuracy?\n",
    "You might be wondering why you can't get an accuracy any higher. First things first, 50% isn't bad for a simple CNN.  Pure guessing would get you 10% accuracy. However, you might notice people are getting scores [well above 70%](http://rodrigob.github.io/are_we_there_yet/build/classification_datasets_results.html#43494641522d3130).  That's because we haven't taught you all there is to know about neural networks. We still need to cover a few more techniques.\n",
    "## Submitting This Project\n",
    "When submitting this project, make sure to run all the cells before saving the notebook.  Save the notebook file as \"dlnd_image_classification.ipynb\" and save it as a HTML file under \"File\" -> \"Download as\".  Include the \"helper.py\" and \"problem_unittests.py\" files in your submission."
   ]
  },
  {
   "cell_type": "code",
   "execution_count": null,
   "metadata": {
    "collapsed": true
   },
   "outputs": [],
   "source": []
  }
 ],
 "metadata": {
  "kernelspec": {
   "display_name": "Python 3",
   "language": "python",
   "name": "python3"
  },
  "language_info": {
   "codemirror_mode": {
    "name": "ipython",
    "version": 3
   },
   "file_extension": ".py",
   "mimetype": "text/x-python",
   "name": "python",
   "nbconvert_exporter": "python",
   "pygments_lexer": "ipython3",
   "version": "3.5.3"
  }
 },
 "nbformat": 4,
 "nbformat_minor": 0
}
