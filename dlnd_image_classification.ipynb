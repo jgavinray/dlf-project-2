{
 "cells": [
  {
   "cell_type": "markdown",
   "metadata": {
    "collapsed": true
   },
   "source": [
    "# Image Classification\n",
    "In this project, you'll classify images from the [CIFAR-10 dataset](https://www.cs.toronto.edu/~kriz/cifar.html).  The dataset consists of airplanes, dogs, cats, and other objects. You'll preprocess the images, then train a convolutional neural network on all the samples. The images need to be normalized and the labels need to be one-hot encoded.  You'll get to apply what you learned and build a convolutional, max pooling, dropout, and fully connected layers.  At the end, you'll get to see your neural network's predictions on the sample images.\n",
    "## Get the Data\n",
    "Run the following cell to download the [CIFAR-10 dataset for python](https://www.cs.toronto.edu/~kriz/cifar-10-python.tar.gz)."
   ]
  },
  {
   "cell_type": "code",
   "execution_count": 1,
   "metadata": {
    "collapsed": false
   },
   "outputs": [
    {
     "name": "stderr",
     "output_type": "stream",
     "text": [
      "CIFAR-10 Dataset: 171MB [00:59, 2.85MB/s]                              \n"
     ]
    },
    {
     "name": "stdout",
     "output_type": "stream",
     "text": [
      "All files found!\n"
     ]
    }
   ],
   "source": [
    "\"\"\"\n",
    "DON'T MODIFY ANYTHING IN THIS CELL THAT IS BELOW THIS LINE\n",
    "\"\"\"\n",
    "from urllib.request import urlretrieve\n",
    "from os.path import isfile, isdir\n",
    "from tqdm import tqdm\n",
    "import problem_unittests as tests\n",
    "import tarfile\n",
    "\n",
    "cifar10_dataset_folder_path = 'cifar-10-batches-py'\n",
    "\n",
    "class DLProgress(tqdm):\n",
    "    last_block = 0\n",
    "\n",
    "    def hook(self, block_num=1, block_size=1, total_size=None):\n",
    "        self.total = total_size\n",
    "        self.update((block_num - self.last_block) * block_size)\n",
    "        self.last_block = block_num\n",
    "\n",
    "if not isfile('cifar-10-python.tar.gz'):\n",
    "    with DLProgress(unit='B', unit_scale=True, miniters=1, desc='CIFAR-10 Dataset') as pbar:\n",
    "        urlretrieve(\n",
    "            'https://www.cs.toronto.edu/~kriz/cifar-10-python.tar.gz',\n",
    "            'cifar-10-python.tar.gz',\n",
    "            pbar.hook)\n",
    "\n",
    "if not isdir(cifar10_dataset_folder_path):\n",
    "    with tarfile.open('cifar-10-python.tar.gz') as tar:\n",
    "        tar.extractall()\n",
    "        tar.close()\n",
    "\n",
    "\n",
    "tests.test_folder_path(cifar10_dataset_folder_path)"
   ]
  },
  {
   "cell_type": "markdown",
   "metadata": {},
   "source": [
    "## Explore the Data\n",
    "The dataset is broken into batches to prevent your machine from running out of memory.  The CIFAR-10 dataset consists of 5 batches, named `data_batch_1`, `data_batch_2`, etc.. Each batch contains the labels and images that are one of the following:\n",
    "* airplane\n",
    "* automobile\n",
    "* bird\n",
    "* cat\n",
    "* deer\n",
    "* dog\n",
    "* frog\n",
    "* horse\n",
    "* ship\n",
    "* truck\n",
    "\n",
    "Understanding a dataset is part of making predictions on the data.  Play around with the code cell below by changing the `batch_id` and `sample_id`. The `batch_id` is the id for a batch (1-5). The `sample_id` is the id for a image and label pair in the batch.\n",
    "\n",
    "Ask yourself \"What are all possible labels?\", \"What is the range of values for the image data?\", \"Are the labels in order or random?\".  Answers to questions like these will help you preprocess the data and end up with better predictions."
   ]
  },
  {
   "cell_type": "code",
   "execution_count": 2,
   "metadata": {
    "collapsed": false
   },
   "outputs": [
    {
     "name": "stdout",
     "output_type": "stream",
     "text": [
      "\n",
      "Stats of batch 1:\n",
      "Samples: 10000\n",
      "Label Counts: {0: 1005, 1: 974, 2: 1032, 3: 1016, 4: 999, 5: 937, 6: 1030, 7: 1001, 8: 1025, 9: 981}\n",
      "First 20 Labels: [6, 9, 9, 4, 1, 1, 2, 7, 8, 3, 4, 7, 7, 2, 9, 9, 9, 3, 2, 6]\n",
      "\n",
      "Example of Image 5:\n",
      "Image - Min Value: 0 Max Value: 252\n",
      "Image - Shape: (32, 32, 3)\n",
      "Label - Label Id: 1 Name: automobile\n"
     ]
    },
    {
     "data": {
      "image/png": "[encoded data removed]",
      "text/plain": [
       "<matplotlib.figure.Figure at 0x10f087860>"
      ]
     },
     "metadata": {
      "image/png": {
       "height": 250,
       "width": 253
      }
     },
     "output_type": "display_data"
    }
   ],
   "source": [
    "%matplotlib inline\n",
    "%config InlineBackend.figure_format = 'retina'\n",
    "\n",
    "import helper\n",
    "import numpy as np\n",
    "\n",
    "# Explore the dataset\n",
    "batch_id = 1\n",
    "sample_id = 5\n",
    "helper.display_stats(cifar10_dataset_folder_path, batch_id, sample_id)"
   ]
  },
  {
   "cell_type": "markdown",
   "metadata": {},
   "source": [
    "## Implement Preprocess Functions\n",
    "### Normalize\n",
    "In the cell below, implement the `normalize` function to take in image data, `x`, and return it as a normalized Numpy array. The values should be in the range of 0 to 1, inclusive.  The return object should be the same shape as `x`."
   ]
  },
  {
   "cell_type": "code",
   "execution_count": 3,
   "metadata": {
    "collapsed": false
   },
   "outputs": [
    {
     "name": "stdout",
     "output_type": "stream",
     "text": [
      "Tests Passed\n"
     ]
    }
   ],
   "source": [
    "def normalize(x):\n",
    "    \"\"\"\n",
    "    Normalize a list of sample image data in the range of 0 to 1\n",
    "    : x: List of image data.  The image shape is (32, 32, 3)\n",
    "    : return: Numpy array of normalize data\n",
    "    \"\"\"\n",
    "    x = np.array(x)\n",
    "    return (x - x.min()) / (x.max() - x.min())\n",
    "\"\"\"\n",
    "DON'T MODIFY ANYTHING IN THIS CELL THAT IS BELOW THIS LINE\n",
    "\"\"\"\n",
    "tests.test_normalize(normalize)"
   ]
  },
  {
   "cell_type": "markdown",
   "metadata": {},
   "source": [
    "### One-hot encode\n",
    "Just like the previous code cell, you'll be implementing a function for preprocessing.  This time, you'll implement the `one_hot_encode` function. The input, `x`, are a list of labels.  Implement the function to return the list of labels as One-Hot encoded Numpy array.  The possible values for labels are 0 to 9. The one-hot encoding function should return the same encoding for each value between each call to `one_hot_encode`.  Make sure to save the map of encodings outside the function.\n",
    "\n",
    "Hint: Don't reinvent the wheel."
   ]
  },
  {
   "cell_type": "code",
   "execution_count": 4,
   "metadata": {
    "collapsed": false
   },
   "outputs": [
    {
     "name": "stdout",
     "output_type": "stream",
     "text": [
      "Tests Passed\n"
     ]
    }
   ],
   "source": [
    "def one_hot_encode(x):\n",
    "    \"\"\"\n",
    "    One hot encode a list of sample labels. Return a one-hot encoded vector for each label.\n",
    "    : x: List of sample Labels\n",
    "    : return: Numpy array of one-hot encoded labels\n",
    "    \"\"\"\n",
    "    return np.eye(10)[x]\n",
    "\"\"\"\n",
    "DON'T MODIFY ANYTHING IN THIS CELL THAT IS BELOW THIS LINE\n",
    "\"\"\"\n",
    "tests.test_one_hot_encode(one_hot_encode)"
   ]
  },
  {
   "cell_type": "markdown",
   "metadata": {},
   "source": [
    "### Randomize Data\n",
    "As you saw from exploring the data above, the order of the samples are randomized.  It doesn't hurt to randomize it again, but you don't need to for this dataset."
   ]
  },
  {
   "cell_type": "markdown",
   "metadata": {},
   "source": [
    "## Preprocess all the data and save it\n",
    "Running the code cell below will preprocess all the CIFAR-10 data and save it to file. The code below also uses 10% of the training data for validation."
   ]
  },
  {
   "cell_type": "code",
   "execution_count": 5,
   "metadata": {
    "collapsed": false
   },
   "outputs": [],
   "source": [
    "\"\"\"\n",
    "DON'T MODIFY ANYTHING IN THIS CELL\n",
    "\"\"\"\n",
    "# Preprocess Training, Validation, and Testing Data\n",
    "helper.preprocess_and_save_data(cifar10_dataset_folder_path, normalize, one_hot_encode)"
   ]
  },
  {
   "cell_type": "markdown",
   "metadata": {},
   "source": [
    "# Check Point\n",
    "This is your first checkpoint.  If you ever decide to come back to this notebook or have to restart the notebook, you can start from here.  The preprocessed data has been saved to disk."
   ]
  },
  {
   "cell_type": "code",
   "execution_count": 6,
   "metadata": {
    "collapsed": true
   },
   "outputs": [],
   "source": [
    "\"\"\"\n",
    "DON'T MODIFY ANYTHING IN THIS CELL\n",
    "\"\"\"\n",
    "import pickle\n",
    "import problem_unittests as tests\n",
    "import helper\n",
    "\n",
    "# Load the Preprocessed Validation data\n",
    "valid_features, valid_labels = pickle.load(open('preprocess_validation.p', mode='rb'))"
   ]
  },
  {
   "cell_type": "markdown",
   "metadata": {},
   "source": [
    "## Build the network\n",
    "For the neural network, you'll build each layer into a function.  Most of the code you've seen has been outside of functions. To test your code more thoroughly, we require that you put each layer in a function.  This allows us to give you better feedback and test for simple mistakes using our unittests before you submit your project.\n",
    "\n",
    "If you're finding it hard to dedicate enough time for this course a week, we've provided a small shortcut to this part of the project. In the next couple of problems, you'll have the option to use [TensorFlow Layers](https://www.tensorflow.org/api_docs/python/tf/layers) or [TensorFlow Layers (contrib)](https://www.tensorflow.org/api_guides/python/contrib.layers) to build each layer, except \"Convolutional & Max Pooling\" layer.  TF Layers is similar to Keras's and TFLearn's abstraction to layers, so it's easy to pickup.\n",
    "\n",
    "If you would like to get the most of this course, try to solve all the problems without TF Layers.  Let's begin!\n",
    "### Input\n",
    "The neural network needs to read the image data, one-hot encoded labels, and dropout keep probability. Implement the following functions\n",
    "* Implement `neural_net_image_input`\n",
    " * Return a [TF Placeholder](https://www.tensorflow.org/api_docs/python/tf/placeholder)\n",
    " * Set the shape using `image_shape` with batch size set to `None`.\n",
    " * Name the TensorFlow placeholder \"x\" using the TensorFlow `name` parameter in the [TF Placeholder](https://www.tensorflow.org/api_docs/python/tf/placeholder).\n",
    "* Implement `neural_net_label_input`\n",
    " * Return a [TF Placeholder](https://www.tensorflow.org/api_docs/python/tf/placeholder)\n",
    " * Set the shape using `n_classes` with batch size set to `None`.\n",
    " * Name the TensorFlow placeholder \"y\" using the TensorFlow `name` parameter in the [TF Placeholder](https://www.tensorflow.org/api_docs/python/tf/placeholder).\n",
    "* Implement `neural_net_keep_prob_input`\n",
    " * Return a [TF Placeholder](https://www.tensorflow.org/api_docs/python/tf/placeholder) for dropout keep probability.\n",
    " * Name the TensorFlow placeholder \"keep_prob\" using the TensorFlow `name` parameter in the [TF Placeholder](https://www.tensorflow.org/api_docs/python/tf/placeholder).\n",
    "\n",
    "These names will be used at the end of the project to load your saved model.\n",
    "\n",
    "Note: `None` for shapes in TensorFlow allow for a dynamic size."
   ]
  },
  {
   "cell_type": "code",
   "execution_count": 7,
   "metadata": {
    "collapsed": false
   },
   "outputs": [
    {
     "name": "stdout",
     "output_type": "stream",
     "text": [
      "Image Input Tests Passed.\n",
      "Label Input Tests Passed.\n",
      "Keep Prob Tests Passed.\n"
     ]
    }
   ],
   "source": [
    "import tensorflow as tf\n",
    "\n",
    "def neural_net_image_input(image_shape):\n",
    "    \"\"\"\n",
    "    Return a Tensor for a bach of image input\n",
    "    : image_shape: Shape of the images\n",
    "    : return: Tensor for image input.\n",
    "    \"\"\"\n",
    "    return tf.placeholder(tf.float32,[None,\n",
    "                                      image_shape[0],\n",
    "                                      image_shape[1],\n",
    "                                      image_shape[2]],name=\"x\")\n",
    "\n",
    "\n",
    "def neural_net_label_input(n_classes):\n",
    "    \"\"\"\n",
    "    Return a Tensor for a batch of label input\n",
    "    : n_classes: Number of classes\n",
    "    : return: Tensor for label input.\n",
    "    \"\"\"\n",
    "    return tf.placeholder(tf.float32,[None,n_classes],name='y')\n",
    "\n",
    "\n",
    "def neural_net_keep_prob_input():\n",
    "    \"\"\"\n",
    "    Return a Tensor for keep probability\n",
    "    : return: Tensor for keep probability.\n",
    "    \"\"\"\n",
    "    return tf.placeholder(tf.float32,name=\"keep_prob\")\n",
    "\n",
    "\n",
    "\"\"\"\n",
    "DON'T MODIFY ANYTHING IN THIS CELL THAT IS BELOW THIS LINE\n",
    "\"\"\"\n",
    "tf.reset_default_graph()\n",
    "tests.test_nn_image_inputs(neural_net_image_input)\n",
    "tests.test_nn_label_inputs(neural_net_label_input)\n",
    "tests.test_nn_keep_prob_inputs(neural_net_keep_prob_input)"
   ]
  },
  {
   "cell_type": "markdown",
   "metadata": {},
   "source": [
    "### Convolution and Max Pooling Layer\n",
    "Convolution layers have a lot of success with images. For this code cell, you should implement the function `conv2d_maxpool` to apply convolution then max pooling:\n",
    "* Create the weight and bias using `conv_ksize`, `conv_num_outputs` and the shape of `x_tensor`.\n",
    "* Apply a convolution to `x_tensor` using weight and `conv_strides`.\n",
    " * We recommend you use same padding, but you're welcome to use any padding.\n",
    "* Add bias\n",
    "* Add a nonlinear activation to the convolution.\n",
    "* Apply Max Pooling using `pool_ksize` and `pool_strides`.\n",
    " * We recommend you use same padding, but you're welcome to use any padding.\n",
    "\n",
    "Note: You **can't** use [TensorFlow Layers](https://www.tensorflow.org/api_docs/python/tf/layers) or [TensorFlow Layers (contrib)](https://www.tensorflow.org/api_guides/python/contrib.layers) for this layer.  You're free to use any TensorFlow package for all the other layers."
   ]
  },
  {
   "cell_type": "code",
   "execution_count": 8,
   "metadata": {
    "collapsed": false
   },
   "outputs": [
    {
     "name": "stdout",
     "output_type": "stream",
     "text": [
      "Tests Passed\n"
     ]
    }
   ],
   "source": [
    "def conv2d_maxpool(x_tensor, conv_num_outputs, conv_ksize, conv_strides, pool_ksize, pool_strides):\n",
    "    \"\"\"\n",
    "    Apply convolution then max pooling to x_tensor\n",
    "    :param x_tensor: TensorFlow Tensor\n",
    "    :param conv_num_outputs: Number of outputs for the convolutional layer\n",
    "    :param conv_strides: Stride 2-D Tuple for convolution\n",
    "    :param pool_ksize: kernal size 2-D Tuple for pool\n",
    "    :param pool_strides: Stride 2-D Tuple for pool\n",
    "    : return: A tensor that represents convolution and max pooling of x_tensor\n",
    "    \"\"\"\n",
    "    weights = tf.Variable(tf.truncated_normal([*conv_ksize,\n",
    "                                               x_tensor.get_shape().as_list()[3], \n",
    "                                               conv_num_outputs],\n",
    "                                               mean=0,stddev=0.1))\n",
    "    bias = tf.Variable(tf.zeros([conv_num_outputs]))\n",
    "    \n",
    "    layer = tf.nn.conv2d(x_tensor,weights,strides=[1,*conv_strides, 1],\n",
    "                                         padding='SAME')\n",
    "    layer = tf.nn.bias_add(layer,bias)\n",
    "    layer = tf.nn.relu(layer)\n",
    "    layer = tf.nn.max_pool(layer, \n",
    "                           [1,*pool_ksize, 1], \n",
    "                           strides=[1,*pool_strides, 1], \n",
    "                           padding='SAME')\n",
    "    return layer\n",
    "\n",
    "\"\"\"\n",
    "DON'T MODIFY ANYTHING IN THIS CELL THAT IS BELOW THIS LINE\n",
    "\"\"\"\n",
    "tests.test_con_pool(conv2d_maxpool)"
   ]
  },
  {
   "cell_type": "markdown",
   "metadata": {},
   "source": [
    "### Flatten Layer\n",
    "Implement the `flatten` function to change the dimension of `x_tensor` from a 4-D tensor to a 2-D tensor.  The output should be the shape (*Batch Size*, *Flattened Image Size*). You can use [TensorFlow Layers](https://www.tensorflow.org/api_docs/python/tf/layers) or [TensorFlow Layers (contrib)](https://www.tensorflow.org/api_guides/python/contrib.layers) for this layer."
   ]
  },
  {
   "cell_type": "code",
   "execution_count": 9,
   "metadata": {
    "collapsed": false
   },
   "outputs": [
    {
     "name": "stdout",
     "output_type": "stream",
     "text": [
      "Tests Passed\n"
     ]
    }
   ],
   "source": [
    "def flatten(x_tensor):\n",
    "    \"\"\"\n",
    "    Flatten x_tensor to (Batch Size, Flattened Image Size)\n",
    "    : x_tensor: A tensor of size (Batch Size, ...), where ... are the image dimensions.\n",
    "    : return: A tensor of size (Batch Size, Flattened Image Size).\n",
    "    \"\"\"\n",
    "    size = 1\n",
    "    for item in x_tensor.get_shape().as_list():\n",
    "        if(item != None):\n",
    "            size *= item\n",
    "\n",
    "    return tf.reshape(x_tensor,[-1,size])\n",
    "\n",
    "\n",
    "\"\"\"\n",
    "DON'T MODIFY ANYTHING IN THIS CELL THAT IS BELOW THIS LINE\n",
    "\"\"\"\n",
    "tests.test_flatten(flatten)"
   ]
  },
  {
   "cell_type": "markdown",
   "metadata": {},
   "source": [
    "### Fully-Connected Layer\n",
    "Implement the `fully_conn` function to apply a fully connected layer to `x_tensor` with the shape (*Batch Size*, *num_outputs*). You can use [TensorFlow Layers](https://www.tensorflow.org/api_docs/python/tf/layers) or [TensorFlow Layers (contrib)](https://www.tensorflow.org/api_guides/python/contrib.layers) for this layer."
   ]
  },
  {
   "cell_type": "code",
   "execution_count": 10,
   "metadata": {
    "collapsed": false
   },
   "outputs": [
    {
     "name": "stdout",
     "output_type": "stream",
     "text": [
      "Tests Passed\n"
     ]
    }
   ],
   "source": [
    "def fully_conn(x_tensor, num_outputs):\n",
    "    \"\"\"\n",
    "    Apply a fully connected layer to x_tensor using weight and bias\n",
    "    : x_tensor: A 2-D tensor where the first dimension is batch size.\n",
    "    : num_outputs: The number of output that the new tensor should be.\n",
    "    : return: A 2-D tensor where the second dimension is num_outputs.\n",
    "    \"\"\"\n",
    "    weights = tf.Variable(tf.truncated_normal([x_tensor.get_shape().as_list()[1],\n",
    "                                               num_outputs],\n",
    "                                              mean=0,stddev=0.1))\n",
    "    biases = tf.Variable(tf.zeros([num_outputs]))\n",
    "    layer = tf.nn.bias_add(tf.matmul(x_tensor, weights),biases)\n",
    "    layer = tf.nn.relu(layer)\n",
    "    return layer\n",
    "\n",
    "\"\"\"\n",
    "DON'T MODIFY ANYTHING IN THIS CELL THAT IS BELOW THIS LINE\n",
    "\"\"\"\n",
    "tests.test_fully_conn(fully_conn)"
   ]
  },
  {
   "cell_type": "markdown",
   "metadata": {},
   "source": [
    "### Output Layer\n",
    "Implement the `output` function to apply a fully connected layer to `x_tensor` with the shape (*Batch Size*, *num_outputs*). You can use [TensorFlow Layers](https://www.tensorflow.org/api_docs/python/tf/layers) or [TensorFlow Layers (contrib)](https://www.tensorflow.org/api_guides/python/contrib.layers) for this layer.\n",
    "\n",
    "Note: Activation, softmax, or cross entropy shouldn't be applied to this."
   ]
  },
  {
   "cell_type": "code",
   "execution_count": 11,
   "metadata": {
    "collapsed": false
   },
   "outputs": [
    {
     "name": "stdout",
     "output_type": "stream",
     "text": [
      "Tests Passed\n"
     ]
    }
   ],
   "source": [
    "def output(x_tensor, num_outputs):\n",
    "    \"\"\"\n",
    "    Apply a output layer to x_tensor using weight and bias\n",
    "    : x_tensor: A 2-D tensor where the first dimension is batch size.\n",
    "    : num_outputs: The number of output that the new tensor should be.\n",
    "    : return: A 2-D tensor where the second dimension is num_outputs.\n",
    "    \"\"\"\n",
    "    weights = tf.Variable(tf.truncated_normal([x_tensor.get_shape().as_list()[1],\n",
    "                                               num_outputs],\n",
    "                                              mean=0,stddev=0.1))\n",
    "    biases = tf.Variable(tf.zeros([num_outputs]))\n",
    "    layer = tf.nn.bias_add(tf.matmul(x_tensor, weights),biases)\n",
    "    \n",
    "    return layer\n",
    "\n",
    "\n",
    "\"\"\"\n",
    "DON'T MODIFY ANYTHING IN THIS CELL THAT IS BELOW THIS LINE\n",
    "\"\"\"\n",
    "tests.test_output(output)"
   ]
  },
  {
   "cell_type": "markdown",
   "metadata": {},
   "source": [
    "### Create Convolutional Model\n",
    "Implement the function `conv_net` to create a convolutional neural network model. The function takes in a batch of images, `x`, and outputs logits.  Use the layers you created above to create this model:\n",
    "\n",
    "* Apply 1, 2, or 3 Convolution and Max Pool layers\n",
    "* Apply a Flatten Layer\n",
    "* Apply 1, 2, or 3 Fully Connected Layers\n",
    "* Apply an Output Layer\n",
    "* Return the output\n",
    "* Apply [TensorFlow's Dropout](https://www.tensorflow.org/api_docs/python/tf/nn/dropout) to one or more layers in the model using `keep_prob`. "
   ]
  },
  {
   "cell_type": "code",
   "execution_count": 12,
   "metadata": {
    "collapsed": false
   },
   "outputs": [
    {
     "name": "stdout",
     "output_type": "stream",
     "text": [
      "Neural Network Built!\n"
     ]
    }
   ],
   "source": [
    "def conv_net(x, keep_prob):\n",
    "    \"\"\"\n",
    "    Create a convolutional neural network model\n",
    "    : x: Placeholder tensor that holds image data.\n",
    "    : keep_prob: Placeholder tensor that hold dropout keep probability.\n",
    "    : return: Tensor that represents logits\n",
    "    \"\"\"\n",
    "    \"\"\"\n",
    "    :param x_tensor: TensorFlow Tensor\n",
    "    :param conv_num_outputs: Number of outputs for the convolutional layer\n",
    "    :param conv_strides: Stride 2-D Tuple for convolution\n",
    "    :param pool_ksize: kernal size 2-D Tuple for pool\n",
    "    :param pool_strides: Stride 2-D Tuple for pool\n",
    "    \"\"\"\n",
    "    conv_num_outputs = 32\n",
    "    conv_ksize = [2, 2]\n",
    "    conv_strides = [1, 1]\n",
    "    pool_ksize = [2, 2]\n",
    "    pool_strides = [2, 2]\n",
    "#   Convolution layer\n",
    "    conv_layer1 = conv2d_maxpool(x, \n",
    "                                 conv_num_outputs, \n",
    "                                 conv_ksize, \n",
    "                                 conv_strides, \n",
    "                                 pool_ksize, \n",
    "                                 pool_strides)\n",
    "#   Flattening layer\n",
    "    flattened = flatten(conv_layer1)\n",
    "    \n",
    "#   Fully connected layers  \n",
    "    num_outputs = 100\n",
    "    fc_layer1 = fully_conn(flattened, num_outputs)\n",
    "    fc_layer1 = tf.nn.dropout(fc_layer1, keep_prob)\n",
    "    \n",
    "    num_outputs = 100\n",
    "    fc_layer2 = fully_conn(fc_layer1, num_outputs)\n",
    "    fc_layer2 = tf.nn.dropout(fc_layer2, keep_prob)\n",
    "    \n",
    "#   Output Layer\n",
    "    num_outputs = 10\n",
    "    output_layer = output(fc_layer2, num_outputs)\n",
    "    \n",
    "    return output_layer\n",
    "\n",
    "\"\"\"\n",
    "DON'T MODIFY ANYTHING IN THIS CELL THAT IS BELOW THIS LINE\n",
    "\"\"\"\n",
    "\n",
    "##############################\n",
    "## Build the Neural Network ##\n",
    "##############################\n",
    "\n",
    "# Remove previous weights, bias, inputs, etc..\n",
    "tf.reset_default_graph()\n",
    "\n",
    "# Inputs\n",
    "x = neural_net_image_input((32, 32, 3))\n",
    "y = neural_net_label_input(10)\n",
    "keep_prob = neural_net_keep_prob_input()\n",
    "\n",
    "# Model\n",
    "logits = conv_net(x, keep_prob)\n",
    "\n",
    "# Name logits Tensor, so that is can be loaded from disk after training\n",
    "logits = tf.identity(logits, name='logits')\n",
    "\n",
    "# Loss and Optimizer\n",
    "cost = tf.reduce_mean(tf.nn.softmax_cross_entropy_with_logits(logits=logits, labels=y))\n",
    "optimizer = tf.train.AdamOptimizer().minimize(cost)\n",
    "\n",
    "# Accuracy\n",
    "correct_pred = tf.equal(tf.argmax(logits, 1), tf.argmax(y, 1))\n",
    "accuracy = tf.reduce_mean(tf.cast(correct_pred, tf.float32), name='accuracy')\n",
    "\n",
    "tests.test_conv_net(conv_net)"
   ]
  },
  {
   "cell_type": "markdown",
   "metadata": {},
   "source": [
    "## Train the Neural Network\n",
    "### Single Optimization\n",
    "Implement the function `train_neural_network` to do a single optimization.  The optimization should use `optimizer` to optimize in `session` with a `feed_dict` of the following:\n",
    "* `x` for image input\n",
    "* `y` for labels\n",
    "* `keep_prob` for keep probability for dropout\n",
    "\n",
    "This function will be called for each batch, so `tf.global_variables_initializer()` has already been called.\n",
    "\n",
    "Note: Nothing needs to be returned. This function is only optimizing the neural network."
   ]
  },
  {
   "cell_type": "code",
   "execution_count": 13,
   "metadata": {
    "collapsed": false
   },
   "outputs": [
    {
     "name": "stdout",
     "output_type": "stream",
     "text": [
      "Tests Passed\n"
     ]
    }
   ],
   "source": [
    "def train_neural_network(session, optimizer, keep_probability, feature_batch, label_batch):\n",
    "    \"\"\"\n",
    "    Optimize the session on a batch of images and labels\n",
    "    : session: Current TensorFlow session\n",
    "    : optimizer: TensorFlow optimizer function\n",
    "    : keep_probability: keep probability\n",
    "    : feature_batch: Batch of Numpy image data\n",
    "    : label_batch: Batch of Numpy label data\n",
    "    \"\"\"\n",
    "    session.run(optimizer, \n",
    "                feed_dict={x: feature_batch, \n",
    "                           y: label_batch, \n",
    "                           keep_prob: keep_probability})\n",
    "\"\"\"\n",
    "DON'T MODIFY ANYTHING IN THIS CELL THAT IS BELOW THIS LINE\n",
    "\"\"\"\n",
    "tests.test_train_nn(train_neural_network)"
   ]
  },
  {
   "cell_type": "markdown",
   "metadata": {},
   "source": [
    "### Show Stats\n",
    "Implement the function `print_stats` to print loss and validation accuracy.  Use the global variables `valid_features` and `valid_labels` to calculate validation accuracy.  Use a keep probability of `1.0` to calculate the loss and validation accuracy."
   ]
  },
  {
   "cell_type": "code",
   "execution_count": 14,
   "metadata": {
    "collapsed": false
   },
   "outputs": [],
   "source": [
    "def print_stats(session, feature_batch, label_batch, cost, accuracy):\n",
    "    \"\"\"\n",
    "    Print information about loss and validation accuracy\n",
    "    : session: Current TensorFlow session\n",
    "    : feature_batch: Batch of Numpy image data\n",
    "    : label_batch: Batch of Numpy label data\n",
    "    : cost: TensorFlow cost function\n",
    "    : accuracy: TensorFlow accuracy function\n",
    "    \"\"\"\n",
    "    loss = session.run(cost, feed_dict={x: feature_batch,\n",
    "                                        y: label_batch,\n",
    "                                        keep_prob: 1.})\n",
    "    valid_acc = sess.run(accuracy, feed_dict={x: valid_features,\n",
    "                                              y: valid_labels,\n",
    "                                              keep_prob: 1.})\n",
    "\n",
    "    print('Loss:{:.4f} Validation Accuracy:{:.4f}'.format(loss, valid_acc))\n"
   ]
  },
  {
   "cell_type": "markdown",
   "metadata": {},
   "source": [
    "### Hyperparameters\n",
    "Tune the following parameters:\n",
    "* Set `epochs` to the number of iterations until the network stops learning or start overfitting\n",
    "* Set `batch_size` to the highest number that your machine has memory for.  Most people set them to common sizes of memory:\n",
    " * 64\n",
    " * 128\n",
    " * 256\n",
    " * ...\n",
    "* Set `keep_probability` to the probability of keeping a node using dropout"
   ]
  },
  {
   "cell_type": "code",
   "execution_count": 15,
   "metadata": {
    "collapsed": true
   },
   "outputs": [],
   "source": [
    "epochs = 50\n",
    "batch_size = 128\n",
    "keep_probability = 0.75"
   ]
  },
  {
   "cell_type": "markdown",
   "metadata": {},
   "source": [
    "### Train on a Single CIFAR-10 Batch\n",
    "Instead of training the neural network on all the CIFAR-10 batches of data, let's use a single batch. This should save time while you iterate on the model to get a better accuracy.  Once the final validation accuracy is 50% or greater, run the model on all the data in the next section."
   ]
  },
  {
   "cell_type": "code",
   "execution_count": 16,
   "metadata": {
    "collapsed": false
   },
   "outputs": [
    {
     "name": "stdout",
     "output_type": "stream",
     "text": [
      "Checking the Training on a Single Batch...\n",
      "Epoch  1, CIFAR-10 Batch 1:  Loss:2.1584 Validation Accuracy:0.3058\n",
      "Epoch  2, CIFAR-10 Batch 1:  Loss:1.9231 Validation Accuracy:0.3822\n",
      "Epoch  3, CIFAR-10 Batch 1:  Loss:1.6716 Validation Accuracy:0.4364\n",
      "Epoch  4, CIFAR-10 Batch 1:  Loss:1.4853 Validation Accuracy:0.4556\n",
      "Epoch  5, CIFAR-10 Batch 1:  Loss:1.3556 Validation Accuracy:0.4764\n",
      "Epoch  6, CIFAR-10 Batch 1:  Loss:1.1421 Validation Accuracy:0.4956\n",
      "Epoch  7, CIFAR-10 Batch 1:  Loss:1.0586 Validation Accuracy:0.5152\n",
      "Epoch  8, CIFAR-10 Batch 1:  Loss:0.9395 Validation Accuracy:0.5282\n",
      "Epoch  9, CIFAR-10 Batch 1:  Loss:0.8635 Validation Accuracy:0.5366\n",
      "Epoch 10, CIFAR-10 Batch 1:  Loss:0.7762 Validation Accuracy:0.5406\n",
      "Epoch 11, CIFAR-10 Batch 1:  Loss:0.7184 Validation Accuracy:0.5454\n",
      "Epoch 12, CIFAR-10 Batch 1:  Loss:0.6448 Validation Accuracy:0.5440\n",
      "Epoch 13, CIFAR-10 Batch 1:  Loss:0.6095 Validation Accuracy:0.5498\n",
      "Epoch 14, CIFAR-10 Batch 1:  Loss:0.5647 Validation Accuracy:0.5508\n",
      "Epoch 15, CIFAR-10 Batch 1:  Loss:0.5116 Validation Accuracy:0.5470\n",
      "Epoch 16, CIFAR-10 Batch 1:  Loss:0.4691 Validation Accuracy:0.5508\n",
      "Epoch 17, CIFAR-10 Batch 1:  Loss:0.4228 Validation Accuracy:0.5454\n",
      "Epoch 18, CIFAR-10 Batch 1:  Loss:0.3764 Validation Accuracy:0.5492\n",
      "Epoch 19, CIFAR-10 Batch 1:  Loss:0.3523 Validation Accuracy:0.5412\n",
      "Epoch 20, CIFAR-10 Batch 1:  Loss:0.3461 Validation Accuracy:0.5296\n",
      "Epoch 21, CIFAR-10 Batch 1:  Loss:0.2976 Validation Accuracy:0.5424\n",
      "Epoch 22, CIFAR-10 Batch 1:  Loss:0.2452 Validation Accuracy:0.5494\n",
      "Epoch 23, CIFAR-10 Batch 1:  Loss:0.2439 Validation Accuracy:0.5420\n",
      "Epoch 24, CIFAR-10 Batch 1:  Loss:0.2193 Validation Accuracy:0.5438\n",
      "Epoch 25, CIFAR-10 Batch 1:  Loss:0.2137 Validation Accuracy:0.5372\n",
      "Epoch 26, CIFAR-10 Batch 1:  Loss:0.1734 Validation Accuracy:0.5412\n",
      "Epoch 27, CIFAR-10 Batch 1:  Loss:0.1578 Validation Accuracy:0.5404\n",
      "Epoch 28, CIFAR-10 Batch 1:  Loss:0.1396 Validation Accuracy:0.5354\n",
      "Epoch 29, CIFAR-10 Batch 1:  Loss:0.1276 Validation Accuracy:0.5318\n",
      "Epoch 30, CIFAR-10 Batch 1:  Loss:0.1178 Validation Accuracy:0.5236\n",
      "Epoch 31, CIFAR-10 Batch 1:  Loss:0.1142 Validation Accuracy:0.5366\n",
      "Epoch 32, CIFAR-10 Batch 1:  Loss:0.1086 Validation Accuracy:0.5276\n",
      "Epoch 33, CIFAR-10 Batch 1:  Loss:0.0839 Validation Accuracy:0.5274\n",
      "Epoch 34, CIFAR-10 Batch 1:  Loss:0.0763 Validation Accuracy:0.5378\n",
      "Epoch 35, CIFAR-10 Batch 1:  Loss:0.0760 Validation Accuracy:0.5416\n",
      "Epoch 36, CIFAR-10 Batch 1:  Loss:0.0700 Validation Accuracy:0.5346\n",
      "Epoch 37, CIFAR-10 Batch 1:  Loss:0.0573 Validation Accuracy:0.5360\n",
      "Epoch 38, CIFAR-10 Batch 1:  Loss:0.0570 Validation Accuracy:0.5384\n",
      "Epoch 39, CIFAR-10 Batch 1:  Loss:0.0782 Validation Accuracy:0.5288\n",
      "Epoch 40, CIFAR-10 Batch 1:  Loss:0.0517 Validation Accuracy:0.5328\n",
      "Epoch 41, CIFAR-10 Batch 1:  Loss:0.0318 Validation Accuracy:0.5328\n",
      "Epoch 42, CIFAR-10 Batch 1:  Loss:0.0367 Validation Accuracy:0.5276\n",
      "Epoch 43, CIFAR-10 Batch 1:  Loss:0.0335 Validation Accuracy:0.5338\n",
      "Epoch 44, CIFAR-10 Batch 1:  Loss:0.0248 Validation Accuracy:0.5438\n",
      "Epoch 45, CIFAR-10 Batch 1:  Loss:0.0199 Validation Accuracy:0.5384\n",
      "Epoch 46, CIFAR-10 Batch 1:  Loss:0.0269 Validation Accuracy:0.5372\n",
      "Epoch 47, CIFAR-10 Batch 1:  Loss:0.0275 Validation Accuracy:0.5382\n",
      "Epoch 48, CIFAR-10 Batch 1:  Loss:0.0223 Validation Accuracy:0.5362\n",
      "Epoch 49, CIFAR-10 Batch 1:  Loss:0.0206 Validation Accuracy:0.5374\n",
      "Epoch 50, CIFAR-10 Batch 1:  Loss:0.0196 Validation Accuracy:0.5370\n"
     ]
    }
   ],
   "source": [
    "\"\"\"\n",
    "DON'T MODIFY ANYTHING IN THIS CELL\n",
    "\"\"\"\n",
    "print('Checking the Training on a Single Batch...')\n",
    "with tf.Session() as sess:\n",
    "    # Initializing the variables\n",
    "    sess.run(tf.global_variables_initializer())\n",
    "    \n",
    "    # Training cycle\n",
    "    for epoch in range(epochs):\n",
    "        batch_i = 1\n",
    "        for batch_features, batch_labels in helper.load_preprocess_training_batch(batch_i, batch_size):\n",
    "            train_neural_network(sess, optimizer, keep_probability, batch_features, batch_labels)\n",
    "        print('Epoch {:>2}, CIFAR-10 Batch {}:  '.format(epoch + 1, batch_i), end='')\n",
    "        print_stats(sess, batch_features, batch_labels, cost, accuracy)"
   ]
  },
  {
   "cell_type": "markdown",
   "metadata": {},
   "source": [
    "### Fully Train the Model\n",
    "Now that you got a good accuracy with a single CIFAR-10 batch, try it with all five batches."
   ]
  },
  {
   "cell_type": "code",
   "execution_count": 17,
   "metadata": {
    "collapsed": false
   },
   "outputs": [
    {
     "name": "stdout",
     "output_type": "stream",
     "text": [
      "Training...\n",
      "Epoch  1, CIFAR-10 Batch 1:  Loss:2.0728 Validation Accuracy:0.3154\n",
      "Epoch  1, CIFAR-10 Batch 2:  Loss:1.7425 Validation Accuracy:0.3896\n",
      "Epoch  1, CIFAR-10 Batch 3:  Loss:1.4173 Validation Accuracy:0.4264\n",
      "Epoch  1, CIFAR-10 Batch 4:  Loss:1.4455 Validation Accuracy:0.4576\n",
      "Epoch  1, CIFAR-10 Batch 5:  Loss:1.4895 Validation Accuracy:0.4826\n",
      "Epoch  2, CIFAR-10 Batch 1:  Loss:1.5662 Validation Accuracy:0.5102\n",
      "Epoch  2, CIFAR-10 Batch 2:  Loss:1.2330 Validation Accuracy:0.5130\n",
      "Epoch  2, CIFAR-10 Batch 3:  Loss:1.0748 Validation Accuracy:0.5032\n",
      "Epoch  2, CIFAR-10 Batch 4:  Loss:1.1565 Validation Accuracy:0.5336\n",
      "Epoch  2, CIFAR-10 Batch 5:  Loss:1.2974 Validation Accuracy:0.5360\n",
      "Epoch  3, CIFAR-10 Batch 1:  Loss:1.3440 Validation Accuracy:0.5508\n",
      "Epoch  3, CIFAR-10 Batch 2:  Loss:1.0407 Validation Accuracy:0.5548\n",
      "Epoch  3, CIFAR-10 Batch 3:  Loss:0.9244 Validation Accuracy:0.5556\n",
      "Epoch  3, CIFAR-10 Batch 4:  Loss:0.9921 Validation Accuracy:0.5628\n",
      "Epoch  3, CIFAR-10 Batch 5:  Loss:1.1565 Validation Accuracy:0.5590\n",
      "Epoch  4, CIFAR-10 Batch 1:  Loss:1.1726 Validation Accuracy:0.5712\n",
      "Epoch  4, CIFAR-10 Batch 2:  Loss:0.8732 Validation Accuracy:0.5796\n",
      "Epoch  4, CIFAR-10 Batch 3:  Loss:0.8307 Validation Accuracy:0.5694\n",
      "Epoch  4, CIFAR-10 Batch 4:  Loss:0.9331 Validation Accuracy:0.5780\n",
      "Epoch  4, CIFAR-10 Batch 5:  Loss:1.0984 Validation Accuracy:0.5598\n",
      "Epoch  5, CIFAR-10 Batch 1:  Loss:1.0096 Validation Accuracy:0.5834\n",
      "Epoch  5, CIFAR-10 Batch 2:  Loss:0.7934 Validation Accuracy:0.5890\n",
      "Epoch  5, CIFAR-10 Batch 3:  Loss:0.7184 Validation Accuracy:0.5780\n",
      "Epoch  5, CIFAR-10 Batch 4:  Loss:0.7994 Validation Accuracy:0.5880\n",
      "Epoch  5, CIFAR-10 Batch 5:  Loss:0.8692 Validation Accuracy:0.5838\n",
      "Epoch  6, CIFAR-10 Batch 1:  Loss:0.8932 Validation Accuracy:0.5948\n",
      "Epoch  6, CIFAR-10 Batch 2:  Loss:0.7057 Validation Accuracy:0.6000\n",
      "Epoch  6, CIFAR-10 Batch 3:  Loss:0.5843 Validation Accuracy:0.5932\n",
      "Epoch  6, CIFAR-10 Batch 4:  Loss:0.6950 Validation Accuracy:0.6080\n",
      "Epoch  6, CIFAR-10 Batch 5:  Loss:0.8066 Validation Accuracy:0.6018\n",
      "Epoch  7, CIFAR-10 Batch 1:  Loss:0.8197 Validation Accuracy:0.6020\n",
      "Epoch  7, CIFAR-10 Batch 2:  Loss:0.6208 Validation Accuracy:0.6054\n",
      "Epoch  7, CIFAR-10 Batch 3:  Loss:0.5321 Validation Accuracy:0.6060\n",
      "Epoch  7, CIFAR-10 Batch 4:  Loss:0.5836 Validation Accuracy:0.6072\n",
      "Epoch  7, CIFAR-10 Batch 5:  Loss:0.6401 Validation Accuracy:0.6074\n",
      "Epoch  8, CIFAR-10 Batch 1:  Loss:0.7259 Validation Accuracy:0.6144\n",
      "Epoch  8, CIFAR-10 Batch 2:  Loss:0.5261 Validation Accuracy:0.6126\n",
      "Epoch  8, CIFAR-10 Batch 3:  Loss:0.4302 Validation Accuracy:0.6130\n",
      "Epoch  8, CIFAR-10 Batch 4:  Loss:0.5161 Validation Accuracy:0.6180\n",
      "Epoch  8, CIFAR-10 Batch 5:  Loss:0.5721 Validation Accuracy:0.6172\n",
      "Epoch  9, CIFAR-10 Batch 1:  Loss:0.7055 Validation Accuracy:0.6196\n",
      "Epoch  9, CIFAR-10 Batch 2:  Loss:0.4677 Validation Accuracy:0.6020\n",
      "Epoch  9, CIFAR-10 Batch 3:  Loss:0.3931 Validation Accuracy:0.6198\n",
      "Epoch  9, CIFAR-10 Batch 4:  Loss:0.5282 Validation Accuracy:0.5946\n",
      "Epoch  9, CIFAR-10 Batch 5:  Loss:0.5000 Validation Accuracy:0.6194\n",
      "Epoch 10, CIFAR-10 Batch 1:  Loss:0.6301 Validation Accuracy:0.6220\n",
      "Epoch 10, CIFAR-10 Batch 2:  Loss:0.4431 Validation Accuracy:0.6140\n",
      "Epoch 10, CIFAR-10 Batch 3:  Loss:0.3644 Validation Accuracy:0.6036\n",
      "Epoch 10, CIFAR-10 Batch 4:  Loss:0.3965 Validation Accuracy:0.6286\n",
      "Epoch 10, CIFAR-10 Batch 5:  Loss:0.4418 Validation Accuracy:0.6212\n",
      "Epoch 11, CIFAR-10 Batch 1:  Loss:0.6434 Validation Accuracy:0.6304\n",
      "Epoch 11, CIFAR-10 Batch 2:  Loss:0.4022 Validation Accuracy:0.6062\n",
      "Epoch 11, CIFAR-10 Batch 3:  Loss:0.2971 Validation Accuracy:0.6094\n",
      "Epoch 11, CIFAR-10 Batch 4:  Loss:0.3387 Validation Accuracy:0.6272\n",
      "Epoch 11, CIFAR-10 Batch 5:  Loss:0.4248 Validation Accuracy:0.6266\n",
      "Epoch 12, CIFAR-10 Batch 1:  Loss:0.6151 Validation Accuracy:0.6288\n",
      "Epoch 12, CIFAR-10 Batch 2:  Loss:0.2991 Validation Accuracy:0.6230\n",
      "Epoch 12, CIFAR-10 Batch 3:  Loss:0.2937 Validation Accuracy:0.6220\n",
      "Epoch 12, CIFAR-10 Batch 4:  Loss:0.3332 Validation Accuracy:0.6212\n",
      "Epoch 12, CIFAR-10 Batch 5:  Loss:0.3947 Validation Accuracy:0.6208\n",
      "Epoch 13, CIFAR-10 Batch 1:  Loss:0.5235 Validation Accuracy:0.6314\n",
      "Epoch 13, CIFAR-10 Batch 2:  Loss:0.3027 Validation Accuracy:0.6164\n",
      "Epoch 13, CIFAR-10 Batch 3:  Loss:0.2351 Validation Accuracy:0.6238\n",
      "Epoch 13, CIFAR-10 Batch 4:  Loss:0.3205 Validation Accuracy:0.6258\n",
      "Epoch 13, CIFAR-10 Batch 5:  Loss:0.2915 Validation Accuracy:0.6184\n",
      "Epoch 14, CIFAR-10 Batch 1:  Loss:0.5233 Validation Accuracy:0.6264\n",
      "Epoch 14, CIFAR-10 Batch 2:  Loss:0.2551 Validation Accuracy:0.6210\n",
      "Epoch 14, CIFAR-10 Batch 3:  Loss:0.2312 Validation Accuracy:0.6248\n",
      "Epoch 14, CIFAR-10 Batch 4:  Loss:0.2924 Validation Accuracy:0.6176\n",
      "Epoch 14, CIFAR-10 Batch 5:  Loss:0.2999 Validation Accuracy:0.6252\n",
      "Epoch 15, CIFAR-10 Batch 1:  Loss:0.5014 Validation Accuracy:0.6256\n",
      "Epoch 15, CIFAR-10 Batch 2:  Loss:0.2335 Validation Accuracy:0.6156\n",
      "Epoch 15, CIFAR-10 Batch 3:  Loss:0.2186 Validation Accuracy:0.6218\n",
      "Epoch 15, CIFAR-10 Batch 4:  Loss:0.3094 Validation Accuracy:0.6170\n",
      "Epoch 15, CIFAR-10 Batch 5:  Loss:0.2342 Validation Accuracy:0.6312\n",
      "Epoch 16, CIFAR-10 Batch 1:  Loss:0.4630 Validation Accuracy:0.6236\n",
      "Epoch 16, CIFAR-10 Batch 2:  Loss:0.1817 Validation Accuracy:0.6200\n",
      "Epoch 16, CIFAR-10 Batch 3:  Loss:0.1751 Validation Accuracy:0.6208\n",
      "Epoch 16, CIFAR-10 Batch 4:  Loss:0.2566 Validation Accuracy:0.6298\n",
      "Epoch 16, CIFAR-10 Batch 5:  Loss:0.2191 Validation Accuracy:0.6330\n",
      "Epoch 17, CIFAR-10 Batch 1:  Loss:0.4318 Validation Accuracy:0.6280\n",
      "Epoch 17, CIFAR-10 Batch 2:  Loss:0.1815 Validation Accuracy:0.6316\n",
      "Epoch 17, CIFAR-10 Batch 3:  Loss:0.1786 Validation Accuracy:0.6214\n",
      "Epoch 17, CIFAR-10 Batch 4:  Loss:0.2346 Validation Accuracy:0.6222\n",
      "Epoch 17, CIFAR-10 Batch 5:  Loss:0.2046 Validation Accuracy:0.6286\n",
      "Epoch 18, CIFAR-10 Batch 1:  Loss:0.4543 Validation Accuracy:0.6172\n",
      "Epoch 18, CIFAR-10 Batch 2:  Loss:0.1803 Validation Accuracy:0.6250\n",
      "Epoch 18, CIFAR-10 Batch 3:  Loss:0.1556 Validation Accuracy:0.6270\n",
      "Epoch 18, CIFAR-10 Batch 4:  Loss:0.2212 Validation Accuracy:0.6238\n",
      "Epoch 18, CIFAR-10 Batch 5:  Loss:0.2010 Validation Accuracy:0.6298\n",
      "Epoch 19, CIFAR-10 Batch 1:  Loss:0.3525 Validation Accuracy:0.6336\n",
      "Epoch 19, CIFAR-10 Batch 2:  Loss:0.1583 Validation Accuracy:0.6336\n",
      "Epoch 19, CIFAR-10 Batch 3:  Loss:0.1747 Validation Accuracy:0.6284\n",
      "Epoch 19, CIFAR-10 Batch 4:  Loss:0.2353 Validation Accuracy:0.6120\n",
      "Epoch 19, CIFAR-10 Batch 5:  Loss:0.2224 Validation Accuracy:0.6290\n",
      "Epoch 20, CIFAR-10 Batch 1:  Loss:0.3419 Validation Accuracy:0.6322\n",
      "Epoch 20, CIFAR-10 Batch 2:  Loss:0.1531 Validation Accuracy:0.6392\n",
      "Epoch 20, CIFAR-10 Batch 3:  Loss:0.1509 Validation Accuracy:0.6342\n",
      "Epoch 20, CIFAR-10 Batch 4:  Loss:0.2020 Validation Accuracy:0.6276\n",
      "Epoch 20, CIFAR-10 Batch 5:  Loss:0.1981 Validation Accuracy:0.6200\n",
      "Epoch 21, CIFAR-10 Batch 1:  Loss:0.3366 Validation Accuracy:0.6232\n",
      "Epoch 21, CIFAR-10 Batch 2:  Loss:0.1414 Validation Accuracy:0.6368\n",
      "Epoch 21, CIFAR-10 Batch 3:  Loss:0.1547 Validation Accuracy:0.6232\n",
      "Epoch 21, CIFAR-10 Batch 4:  Loss:0.1741 Validation Accuracy:0.6210\n",
      "Epoch 21, CIFAR-10 Batch 5:  Loss:0.1760 Validation Accuracy:0.6284\n",
      "Epoch 22, CIFAR-10 Batch 1:  Loss:0.2954 Validation Accuracy:0.6278\n",
      "Epoch 22, CIFAR-10 Batch 2:  Loss:0.1365 Validation Accuracy:0.6324\n",
      "Epoch 22, CIFAR-10 Batch 3:  Loss:0.1306 Validation Accuracy:0.6316\n",
      "Epoch 22, CIFAR-10 Batch 4:  Loss:0.1724 Validation Accuracy:0.6236\n",
      "Epoch 22, CIFAR-10 Batch 5:  Loss:0.1379 Validation Accuracy:0.6200\n",
      "Epoch 23, CIFAR-10 Batch 1:  Loss:0.2809 Validation Accuracy:0.6200\n",
      "Epoch 23, CIFAR-10 Batch 2:  Loss:0.1227 Validation Accuracy:0.6278\n",
      "Epoch 23, CIFAR-10 Batch 3:  Loss:0.1367 Validation Accuracy:0.6254\n",
      "Epoch 23, CIFAR-10 Batch 4:  Loss:0.1552 Validation Accuracy:0.6144\n",
      "Epoch 23, CIFAR-10 Batch 5:  Loss:0.2191 Validation Accuracy:0.6138\n",
      "Epoch 24, CIFAR-10 Batch 1:  Loss:0.2477 Validation Accuracy:0.6216\n",
      "Epoch 24, CIFAR-10 Batch 2:  Loss:0.0962 Validation Accuracy:0.6292\n",
      "Epoch 24, CIFAR-10 Batch 3:  Loss:0.1231 Validation Accuracy:0.6220\n",
      "Epoch 24, CIFAR-10 Batch 4:  Loss:0.1514 Validation Accuracy:0.6188\n",
      "Epoch 24, CIFAR-10 Batch 5:  Loss:0.1623 Validation Accuracy:0.6270\n",
      "Epoch 25, CIFAR-10 Batch 1:  Loss:0.2549 Validation Accuracy:0.6124\n",
      "Epoch 25, CIFAR-10 Batch 2:  Loss:0.1008 Validation Accuracy:0.6222\n",
      "Epoch 25, CIFAR-10 Batch 3:  Loss:0.0948 Validation Accuracy:0.6192\n",
      "Epoch 25, CIFAR-10 Batch 4:  Loss:0.1312 Validation Accuracy:0.6254\n",
      "Epoch 25, CIFAR-10 Batch 5:  Loss:0.1092 Validation Accuracy:0.6314\n",
      "Epoch 26, CIFAR-10 Batch 1:  Loss:0.2434 Validation Accuracy:0.6146\n",
      "Epoch 26, CIFAR-10 Batch 2:  Loss:0.1074 Validation Accuracy:0.6186\n",
      "Epoch 26, CIFAR-10 Batch 3:  Loss:0.0839 Validation Accuracy:0.6276\n",
      "Epoch 26, CIFAR-10 Batch 4:  Loss:0.1524 Validation Accuracy:0.6276\n",
      "Epoch 26, CIFAR-10 Batch 5:  Loss:0.1084 Validation Accuracy:0.6254\n",
      "Epoch 27, CIFAR-10 Batch 1:  Loss:0.2201 Validation Accuracy:0.6190\n",
      "Epoch 27, CIFAR-10 Batch 2:  Loss:0.1340 Validation Accuracy:0.6198\n",
      "Epoch 27, CIFAR-10 Batch 3:  Loss:0.0947 Validation Accuracy:0.6210\n",
      "Epoch 27, CIFAR-10 Batch 4:  Loss:0.1238 Validation Accuracy:0.6298\n",
      "Epoch 27, CIFAR-10 Batch 5:  Loss:0.1163 Validation Accuracy:0.6258\n",
      "Epoch 28, CIFAR-10 Batch 1:  Loss:0.2354 Validation Accuracy:0.6044\n",
      "Epoch 28, CIFAR-10 Batch 2:  Loss:0.0873 Validation Accuracy:0.6208\n",
      "Epoch 28, CIFAR-10 Batch 3:  Loss:0.0590 Validation Accuracy:0.6276\n",
      "Epoch 28, CIFAR-10 Batch 4:  Loss:0.1449 Validation Accuracy:0.6268\n",
      "Epoch 28, CIFAR-10 Batch 5:  Loss:0.0860 Validation Accuracy:0.6334\n",
      "Epoch 29, CIFAR-10 Batch 1:  Loss:0.2059 Validation Accuracy:0.6148\n",
      "Epoch 29, CIFAR-10 Batch 2:  Loss:0.1029 Validation Accuracy:0.6288\n",
      "Epoch 29, CIFAR-10 Batch 3:  Loss:0.0676 Validation Accuracy:0.6258\n",
      "Epoch 29, CIFAR-10 Batch 4:  Loss:0.1365 Validation Accuracy:0.6198\n",
      "Epoch 29, CIFAR-10 Batch 5:  Loss:0.1205 Validation Accuracy:0.6256\n",
      "Epoch 30, CIFAR-10 Batch 1:  Loss:0.1683 Validation Accuracy:0.6184\n",
      "Epoch 30, CIFAR-10 Batch 2:  Loss:0.0904 Validation Accuracy:0.6306\n",
      "Epoch 30, CIFAR-10 Batch 3:  Loss:0.0671 Validation Accuracy:0.6276\n",
      "Epoch 30, CIFAR-10 Batch 4:  Loss:0.1312 Validation Accuracy:0.6304\n",
      "Epoch 30, CIFAR-10 Batch 5:  Loss:0.1106 Validation Accuracy:0.6048\n",
      "Epoch 31, CIFAR-10 Batch 1:  Loss:0.1764 Validation Accuracy:0.6044\n",
      "Epoch 31, CIFAR-10 Batch 2:  Loss:0.0841 Validation Accuracy:0.6122\n",
      "Epoch 31, CIFAR-10 Batch 3:  Loss:0.0724 Validation Accuracy:0.6238\n",
      "Epoch 31, CIFAR-10 Batch 4:  Loss:0.0935 Validation Accuracy:0.6232\n",
      "Epoch 31, CIFAR-10 Batch 5:  Loss:0.1213 Validation Accuracy:0.6162\n",
      "Epoch 32, CIFAR-10 Batch 1:  Loss:0.1874 Validation Accuracy:0.6118\n",
      "Epoch 32, CIFAR-10 Batch 2:  Loss:0.0833 Validation Accuracy:0.6086\n",
      "Epoch 32, CIFAR-10 Batch 3:  Loss:0.0614 Validation Accuracy:0.6178\n",
      "Epoch 32, CIFAR-10 Batch 4:  Loss:0.0990 Validation Accuracy:0.6308\n",
      "Epoch 32, CIFAR-10 Batch 5:  Loss:0.0794 Validation Accuracy:0.6068\n",
      "Epoch 33, CIFAR-10 Batch 1:  Loss:0.1766 Validation Accuracy:0.6188\n",
      "Epoch 33, CIFAR-10 Batch 2:  Loss:0.0672 Validation Accuracy:0.6136\n",
      "Epoch 33, CIFAR-10 Batch 3:  Loss:0.0701 Validation Accuracy:0.6158\n",
      "Epoch 33, CIFAR-10 Batch 4:  Loss:0.1007 Validation Accuracy:0.6276\n",
      "Epoch 33, CIFAR-10 Batch 5:  Loss:0.1019 Validation Accuracy:0.6078\n",
      "Epoch 34, CIFAR-10 Batch 1:  Loss:0.1541 Validation Accuracy:0.6182\n",
      "Epoch 34, CIFAR-10 Batch 2:  Loss:0.0610 Validation Accuracy:0.6184\n",
      "Epoch 34, CIFAR-10 Batch 3:  Loss:0.0607 Validation Accuracy:0.6186\n",
      "Epoch 34, CIFAR-10 Batch 4:  Loss:0.0731 Validation Accuracy:0.6252\n",
      "Epoch 34, CIFAR-10 Batch 5:  Loss:0.0811 Validation Accuracy:0.6128\n",
      "Epoch 35, CIFAR-10 Batch 1:  Loss:0.1524 Validation Accuracy:0.6166\n",
      "Epoch 35, CIFAR-10 Batch 2:  Loss:0.0575 Validation Accuracy:0.6176\n",
      "Epoch 35, CIFAR-10 Batch 3:  Loss:0.0475 Validation Accuracy:0.6230\n",
      "Epoch 35, CIFAR-10 Batch 4:  Loss:0.1023 Validation Accuracy:0.6220\n",
      "Epoch 35, CIFAR-10 Batch 5:  Loss:0.0758 Validation Accuracy:0.6132\n",
      "Epoch 36, CIFAR-10 Batch 1:  Loss:0.1733 Validation Accuracy:0.6152\n",
      "Epoch 36, CIFAR-10 Batch 2:  Loss:0.0507 Validation Accuracy:0.6246\n",
      "Epoch 36, CIFAR-10 Batch 3:  Loss:0.0478 Validation Accuracy:0.6232\n",
      "Epoch 36, CIFAR-10 Batch 4:  Loss:0.0906 Validation Accuracy:0.6244\n",
      "Epoch 36, CIFAR-10 Batch 5:  Loss:0.0757 Validation Accuracy:0.6036\n",
      "Epoch 37, CIFAR-10 Batch 1:  Loss:0.1440 Validation Accuracy:0.6124\n",
      "Epoch 37, CIFAR-10 Batch 2:  Loss:0.0525 Validation Accuracy:0.6126\n",
      "Epoch 37, CIFAR-10 Batch 3:  Loss:0.0584 Validation Accuracy:0.6178\n",
      "Epoch 37, CIFAR-10 Batch 4:  Loss:0.0967 Validation Accuracy:0.6142\n",
      "Epoch 37, CIFAR-10 Batch 5:  Loss:0.0730 Validation Accuracy:0.6158\n",
      "Epoch 38, CIFAR-10 Batch 1:  Loss:0.1151 Validation Accuracy:0.6090\n",
      "Epoch 38, CIFAR-10 Batch 2:  Loss:0.0448 Validation Accuracy:0.6148\n",
      "Epoch 38, CIFAR-10 Batch 3:  Loss:0.0597 Validation Accuracy:0.6078\n",
      "Epoch 38, CIFAR-10 Batch 4:  Loss:0.0833 Validation Accuracy:0.6176\n",
      "Epoch 38, CIFAR-10 Batch 5:  Loss:0.0876 Validation Accuracy:0.6178\n",
      "Epoch 39, CIFAR-10 Batch 1:  Loss:0.1465 Validation Accuracy:0.6128\n",
      "Epoch 39, CIFAR-10 Batch 2:  Loss:0.0347 Validation Accuracy:0.6128\n",
      "Epoch 39, CIFAR-10 Batch 3:  Loss:0.0489 Validation Accuracy:0.6112\n",
      "Epoch 39, CIFAR-10 Batch 4:  Loss:0.0725 Validation Accuracy:0.6228\n",
      "Epoch 39, CIFAR-10 Batch 5:  Loss:0.0598 Validation Accuracy:0.6196\n",
      "Epoch 40, CIFAR-10 Batch 1:  Loss:0.1192 Validation Accuracy:0.6122\n",
      "Epoch 40, CIFAR-10 Batch 2:  Loss:0.0383 Validation Accuracy:0.6084\n",
      "Epoch 40, CIFAR-10 Batch 3:  Loss:0.0506 Validation Accuracy:0.6168\n",
      "Epoch 40, CIFAR-10 Batch 4:  Loss:0.0839 Validation Accuracy:0.6256\n",
      "Epoch 40, CIFAR-10 Batch 5:  Loss:0.0556 Validation Accuracy:0.6120\n",
      "Epoch 41, CIFAR-10 Batch 1:  Loss:0.1057 Validation Accuracy:0.6212\n",
      "Epoch 41, CIFAR-10 Batch 2:  Loss:0.0577 Validation Accuracy:0.5994\n",
      "Epoch 41, CIFAR-10 Batch 3:  Loss:0.0542 Validation Accuracy:0.6152\n",
      "Epoch 41, CIFAR-10 Batch 4:  Loss:0.0693 Validation Accuracy:0.6194\n",
      "Epoch 41, CIFAR-10 Batch 5:  Loss:0.0576 Validation Accuracy:0.6212\n",
      "Epoch 42, CIFAR-10 Batch 1:  Loss:0.0957 Validation Accuracy:0.6182\n",
      "Epoch 42, CIFAR-10 Batch 2:  Loss:0.0376 Validation Accuracy:0.6066\n",
      "Epoch 42, CIFAR-10 Batch 3:  Loss:0.0308 Validation Accuracy:0.6172\n",
      "Epoch 42, CIFAR-10 Batch 4:  Loss:0.0859 Validation Accuracy:0.6178\n",
      "Epoch 42, CIFAR-10 Batch 5:  Loss:0.0441 Validation Accuracy:0.6170\n",
      "Epoch 43, CIFAR-10 Batch 1:  Loss:0.0953 Validation Accuracy:0.6142\n",
      "Epoch 43, CIFAR-10 Batch 2:  Loss:0.0522 Validation Accuracy:0.6128\n",
      "Epoch 43, CIFAR-10 Batch 3:  Loss:0.0447 Validation Accuracy:0.6092\n",
      "Epoch 43, CIFAR-10 Batch 4:  Loss:0.0638 Validation Accuracy:0.6242\n",
      "Epoch 43, CIFAR-10 Batch 5:  Loss:0.0605 Validation Accuracy:0.5990\n",
      "Epoch 44, CIFAR-10 Batch 1:  Loss:0.1166 Validation Accuracy:0.6196\n",
      "Epoch 44, CIFAR-10 Batch 2:  Loss:0.0349 Validation Accuracy:0.6162\n",
      "Epoch 44, CIFAR-10 Batch 3:  Loss:0.0355 Validation Accuracy:0.6060\n",
      "Epoch 44, CIFAR-10 Batch 4:  Loss:0.0714 Validation Accuracy:0.6168\n",
      "Epoch 44, CIFAR-10 Batch 5:  Loss:0.0408 Validation Accuracy:0.6218\n",
      "Epoch 45, CIFAR-10 Batch 1:  Loss:0.0847 Validation Accuracy:0.6258\n",
      "Epoch 45, CIFAR-10 Batch 2:  Loss:0.0379 Validation Accuracy:0.6062\n",
      "Epoch 45, CIFAR-10 Batch 3:  Loss:0.0322 Validation Accuracy:0.6108\n",
      "Epoch 45, CIFAR-10 Batch 4:  Loss:0.0677 Validation Accuracy:0.6212\n",
      "Epoch 45, CIFAR-10 Batch 5:  Loss:0.0314 Validation Accuracy:0.6218\n",
      "Epoch 46, CIFAR-10 Batch 1:  Loss:0.0835 Validation Accuracy:0.6234\n",
      "Epoch 46, CIFAR-10 Batch 2:  Loss:0.0314 Validation Accuracy:0.6040\n",
      "Epoch 46, CIFAR-10 Batch 3:  Loss:0.0444 Validation Accuracy:0.6112\n",
      "Epoch 46, CIFAR-10 Batch 4:  Loss:0.0576 Validation Accuracy:0.6116\n",
      "Epoch 46, CIFAR-10 Batch 5:  Loss:0.0399 Validation Accuracy:0.6262\n",
      "Epoch 47, CIFAR-10 Batch 1:  Loss:0.0989 Validation Accuracy:0.6238\n",
      "Epoch 47, CIFAR-10 Batch 2:  Loss:0.0466 Validation Accuracy:0.6058\n",
      "Epoch 47, CIFAR-10 Batch 3:  Loss:0.0351 Validation Accuracy:0.6092\n",
      "Epoch 47, CIFAR-10 Batch 4:  Loss:0.0561 Validation Accuracy:0.6182\n",
      "Epoch 47, CIFAR-10 Batch 5:  Loss:0.0434 Validation Accuracy:0.6182\n",
      "Epoch 48, CIFAR-10 Batch 1:  Loss:0.0910 Validation Accuracy:0.6234\n",
      "Epoch 48, CIFAR-10 Batch 2:  Loss:0.0290 Validation Accuracy:0.6098\n",
      "Epoch 48, CIFAR-10 Batch 3:  Loss:0.0385 Validation Accuracy:0.6098\n",
      "Epoch 48, CIFAR-10 Batch 4:  Loss:0.0602 Validation Accuracy:0.6152\n",
      "Epoch 48, CIFAR-10 Batch 5:  Loss:0.0362 Validation Accuracy:0.6232\n",
      "Epoch 49, CIFAR-10 Batch 1:  Loss:0.0795 Validation Accuracy:0.6320\n",
      "Epoch 49, CIFAR-10 Batch 2:  Loss:0.0276 Validation Accuracy:0.6166\n",
      "Epoch 49, CIFAR-10 Batch 3:  Loss:0.0246 Validation Accuracy:0.6072\n",
      "Epoch 49, CIFAR-10 Batch 4:  Loss:0.0550 Validation Accuracy:0.6108\n",
      "Epoch 49, CIFAR-10 Batch 5:  Loss:0.0296 Validation Accuracy:0.6214\n",
      "Epoch 50, CIFAR-10 Batch 1:  Loss:0.0750 Validation Accuracy:0.6254\n",
      "Epoch 50, CIFAR-10 Batch 2:  Loss:0.0349 Validation Accuracy:0.6176\n",
      "Epoch 50, CIFAR-10 Batch 3:  Loss:0.0273 Validation Accuracy:0.6090\n",
      "Epoch 50, CIFAR-10 Batch 4:  Loss:0.0570 Validation Accuracy:0.6072\n",
      "Epoch 50, CIFAR-10 Batch 5:  Loss:0.0281 Validation Accuracy:0.6192\n"
     ]
    }
   ],
   "source": [
    "\"\"\"\n",
    "DON'T MODIFY ANYTHING IN THIS CELL\n",
    "\"\"\"\n",
    "save_model_path = './image_classification'\n",
    "\n",
    "print('Training...')\n",
    "with tf.Session() as sess:\n",
    "    # Initializing the variables\n",
    "    sess.run(tf.global_variables_initializer())\n",
    "    \n",
    "    # Training cycle\n",
    "    for epoch in range(epochs):\n",
    "        # Loop over all batches\n",
    "        n_batches = 5\n",
    "        for batch_i in range(1, n_batches + 1):\n",
    "            for batch_features, batch_labels in helper.load_preprocess_training_batch(batch_i, batch_size):\n",
    "                train_neural_network(sess, optimizer, keep_probability, batch_features, batch_labels)\n",
    "            print('Epoch {:>2}, CIFAR-10 Batch {}:  '.format(epoch + 1, batch_i), end='')\n",
    "            print_stats(sess, batch_features, batch_labels, cost, accuracy)\n",
    "            \n",
    "    # Save Model\n",
    "    saver = tf.train.Saver()\n",
    "    save_path = saver.save(sess, save_model_path)"
   ]
  },
  {
   "cell_type": "markdown",
   "metadata": {},
   "source": [
    "# Checkpoint\n",
    "The model has been saved to disk.\n",
    "## Test Model\n",
    "Test your model against the test dataset.  This will be your final accuracy. You should have an accuracy greater than 50%. If you don't, keep tweaking the model architecture and parameters."
   ]
  },
  {
   "cell_type": "code",
   "execution_count": 18,
   "metadata": {
    "collapsed": false
   },
   "outputs": [
    {
     "name": "stdout",
     "output_type": "stream",
     "text": [
      "Testing Accuracy: 0.6158030063291139\n",
      "\n"
     ]
    },
    {
     "data": {
      "image/png": "[encoded data removed]",
      "text/plain": [
       "<matplotlib.figure.Figure at 0x128cb3f98>"
      ]
     },
     "metadata": {
      "image/png": {
       "height": 319,
       "width": 355
      }
     },
     "output_type": "display_data"
    }
   ],
   "source": [
    "\"\"\"\n",
    "DON'T MODIFY ANYTHING IN THIS CELL\n",
    "\"\"\"\n",
    "%matplotlib inline\n",
    "%config InlineBackend.figure_format = 'retina'\n",
    "\n",
    "import tensorflow as tf\n",
    "import pickle\n",
    "import helper\n",
    "import random\n",
    "\n",
    "# Set batch size if not already set\n",
    "try:\n",
    "    if batch_size:\n",
    "        pass\n",
    "except NameError:\n",
    "    batch_size = 64\n",
    "\n",
    "save_model_path = './image_classification'\n",
    "n_samples = 4\n",
    "top_n_predictions = 3\n",
    "\n",
    "def test_model():\n",
    "    \"\"\"\n",
    "    Test the saved model against the test dataset\n",
    "    \"\"\"\n",
    "\n",
    "    test_features, test_labels = pickle.load(open('preprocess_training.p', mode='rb'))\n",
    "    loaded_graph = tf.Graph()\n",
    "\n",
    "    with tf.Session(graph=loaded_graph) as sess:\n",
    "        # Load model\n",
    "        loader = tf.train.import_meta_graph(save_model_path + '.meta')\n",
    "        loader.restore(sess, save_model_path)\n",
    "\n",
    "        # Get Tensors from loaded model\n",
    "        loaded_x = loaded_graph.get_tensor_by_name('x:0')\n",
    "        loaded_y = loaded_graph.get_tensor_by_name('y:0')\n",
    "        loaded_keep_prob = loaded_graph.get_tensor_by_name('keep_prob:0')\n",
    "        loaded_logits = loaded_graph.get_tensor_by_name('logits:0')\n",
    "        loaded_acc = loaded_graph.get_tensor_by_name('accuracy:0')\n",
    "        \n",
    "        # Get accuracy in batches for memory limitations\n",
    "        test_batch_acc_total = 0\n",
    "        test_batch_count = 0\n",
    "        \n",
    "        for train_feature_batch, train_label_batch in helper.batch_features_labels(test_features, test_labels, batch_size):\n",
    "            test_batch_acc_total += sess.run(\n",
    "                loaded_acc,\n",
    "                feed_dict={loaded_x: train_feature_batch, loaded_y: train_label_batch, loaded_keep_prob: 1.0})\n",
    "            test_batch_count += 1\n",
    "\n",
    "        print('Testing Accuracy: {}\\n'.format(test_batch_acc_total/test_batch_count))\n",
    "\n",
    "        # Print Random Samples\n",
    "        random_test_features, random_test_labels = tuple(zip(*random.sample(list(zip(test_features, test_labels)), n_samples)))\n",
    "        random_test_predictions = sess.run(\n",
    "            tf.nn.top_k(tf.nn.softmax(loaded_logits), top_n_predictions),\n",
    "            feed_dict={loaded_x: random_test_features, loaded_y: random_test_labels, loaded_keep_prob: 1.0})\n",
    "        helper.display_image_predictions(random_test_features, random_test_labels, random_test_predictions)\n",
    "\n",
    "\n",
    "test_model()"
   ]
  },
  {
   "cell_type": "markdown",
   "metadata": {},
   "source": [
    "## Why 50-70% Accuracy?\n",
    "You might be wondering why you can't get an accuracy any higher. First things first, 50% isn't bad for a simple CNN.  Pure guessing would get you 10% accuracy. However, you might notice people are getting scores [well above 70%](http://rodrigob.github.io/are_we_there_yet/build/classification_datasets_results.html#43494641522d3130).  That's because we haven't taught you all there is to know about neural networks. We still need to cover a few more techniques.\n",
    "## Submitting This Project\n",
    "When submitting this project, make sure to run all the cells before saving the notebook.  Save the notebook file as \"dlnd_image_classification.ipynb\" and save it as a HTML file under \"File\" -> \"Download as\".  Include the \"helper.py\" and \"problem_unittests.py\" files in your submission."
   ]
  }
 ],
 "metadata": {
  "kernelspec": {
   "display_name": "Python 3",
   "language": "python",
   "name": "python3"
  },
  "language_info": {
   "codemirror_mode": {
    "name": "ipython",
    "version": 3
   },
   "file_extension": ".py",
   "mimetype": "text/x-python",
   "name": "python",
   "nbconvert_exporter": "python",
   "pygments_lexer": "ipython3",
   "version": "3.5.3"
  }
 },
 "nbformat": 4,
 "nbformat_minor": 0
}
